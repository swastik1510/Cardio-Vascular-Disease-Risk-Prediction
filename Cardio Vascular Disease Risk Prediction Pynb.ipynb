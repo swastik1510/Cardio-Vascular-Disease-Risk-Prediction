{
  "nbformat": 4,
  "nbformat_minor": 0,
  "metadata": {
    "colab": {
      "provenance": [],
      "collapsed_sections": [
        "ee7eo0n2btyG"
      ]
    },
    "kernelspec": {
      "name": "python3",
      "display_name": "Python 3"
    },
    "language_info": {
      "name": "python"
    }
  },
  "cells": [
    {
      "cell_type": "markdown",
      "source": [
        "Importing the Dependencies"
      ],
      "metadata": {
        "id": "HQibbroLjkpJ"
      }
    },
    {
      "cell_type": "code",
      "source": [
        "from google.colab import drive\n",
        "drive.mount('/content/drive')"
      ],
      "metadata": {
        "colab": {
          "base_uri": "https://localhost:8080/"
        },
        "id": "vqkyymwvus8m",
        "outputId": "7cb8074e-ae10-49a4-f8b1-baadcd178fd0"
      },
      "execution_count": null,
      "outputs": [
        {
          "output_type": "stream",
          "name": "stdout",
          "text": [
            "Drive already mounted at /content/drive; to attempt to forcibly remount, call drive.mount(\"/content/drive\", force_remount=True).\n"
          ]
        }
      ]
    },
    {
      "cell_type": "code",
      "execution_count": null,
      "metadata": {
        "id": "235H0UwchNP1"
      },
      "outputs": [],
      "source": [
        "import numpy as np\n",
        "import pandas as pd\n",
        "import matplotlib.pyplot as plt\n",
        "from sklearn.model_selection import train_test_split\n",
        "from sklearn.linear_model import LogisticRegression\n",
        "from sklearn.naive_bayes import MultinomialNB\n",
        "from sklearn.tree import DecisionTreeClassifier \n",
        "from sklearn.neighbors import KNeighborsClassifier\n",
        "from sklearn.metrics import confusion_matrix\n",
        "from sklearn.metrics import accuracy_score\n",
        "from sklearn.neural_network import MLPClassifier\n"
      ]
    },
    {
      "cell_type": "markdown",
      "source": [
        "Data Collection and Processing"
      ],
      "metadata": {
        "id": "Q6Qhnrcnj95Z"
      }
    },
    {
      "cell_type": "code",
      "source": [
        "# loading the csv data to a Pandas DataFrame\n",
        "heart_data=pd.read_csv('/content/drive/MyDrive/data.csv')"
      ],
      "metadata": {
        "id": "yUpeNFmGkHPh"
      },
      "execution_count": null,
      "outputs": []
    },
    {
      "cell_type": "code",
      "source": [
        "#print 5 rows\n",
        "heart_data.head()"
      ],
      "metadata": {
        "id": "cw1Jss6Bmy-K",
        "colab": {
          "base_uri": "https://localhost:8080/",
          "height": 206
        },
        "outputId": "0ad67a87-9a2c-4626-e896-4445fd76bb63"
      },
      "execution_count": null,
      "outputs": [
        {
          "output_type": "execute_result",
          "data": {
            "text/plain": [
              "   age  sex  cp  trestbps  chol  fbs  restecg  thalach  exang  oldpeak  slope  \\\n",
              "0   63    1   3       145   233    1        0      150      0      2.3      0   \n",
              "1   37    1   2       130   250    0        1      187      0      3.5      0   \n",
              "2   41    0   1       130   204    0        0      172      0      1.4      2   \n",
              "3   56    1   1       120   236    0        1      178      0      0.8      2   \n",
              "4   57    0   0       120   354    0        1      163      1      0.6      2   \n",
              "\n",
              "   ca  thal  target  \n",
              "0   0     1       1  \n",
              "1   0     2       1  \n",
              "2   0     2       1  \n",
              "3   0     2       1  \n",
              "4   0     2       1  "
            ],
            "text/html": [
              "\n",
              "  <div id=\"df-75a39ab0-1110-4a52-a1f8-01c4aae9c4de\">\n",
              "    <div class=\"colab-df-container\">\n",
              "      <div>\n",
              "<style scoped>\n",
              "    .dataframe tbody tr th:only-of-type {\n",
              "        vertical-align: middle;\n",
              "    }\n",
              "\n",
              "    .dataframe tbody tr th {\n",
              "        vertical-align: top;\n",
              "    }\n",
              "\n",
              "    .dataframe thead th {\n",
              "        text-align: right;\n",
              "    }\n",
              "</style>\n",
              "<table border=\"1\" class=\"dataframe\">\n",
              "  <thead>\n",
              "    <tr style=\"text-align: right;\">\n",
              "      <th></th>\n",
              "      <th>age</th>\n",
              "      <th>sex</th>\n",
              "      <th>cp</th>\n",
              "      <th>trestbps</th>\n",
              "      <th>chol</th>\n",
              "      <th>fbs</th>\n",
              "      <th>restecg</th>\n",
              "      <th>thalach</th>\n",
              "      <th>exang</th>\n",
              "      <th>oldpeak</th>\n",
              "      <th>slope</th>\n",
              "      <th>ca</th>\n",
              "      <th>thal</th>\n",
              "      <th>target</th>\n",
              "    </tr>\n",
              "  </thead>\n",
              "  <tbody>\n",
              "    <tr>\n",
              "      <th>0</th>\n",
              "      <td>63</td>\n",
              "      <td>1</td>\n",
              "      <td>3</td>\n",
              "      <td>145</td>\n",
              "      <td>233</td>\n",
              "      <td>1</td>\n",
              "      <td>0</td>\n",
              "      <td>150</td>\n",
              "      <td>0</td>\n",
              "      <td>2.3</td>\n",
              "      <td>0</td>\n",
              "      <td>0</td>\n",
              "      <td>1</td>\n",
              "      <td>1</td>\n",
              "    </tr>\n",
              "    <tr>\n",
              "      <th>1</th>\n",
              "      <td>37</td>\n",
              "      <td>1</td>\n",
              "      <td>2</td>\n",
              "      <td>130</td>\n",
              "      <td>250</td>\n",
              "      <td>0</td>\n",
              "      <td>1</td>\n",
              "      <td>187</td>\n",
              "      <td>0</td>\n",
              "      <td>3.5</td>\n",
              "      <td>0</td>\n",
              "      <td>0</td>\n",
              "      <td>2</td>\n",
              "      <td>1</td>\n",
              "    </tr>\n",
              "    <tr>\n",
              "      <th>2</th>\n",
              "      <td>41</td>\n",
              "      <td>0</td>\n",
              "      <td>1</td>\n",
              "      <td>130</td>\n",
              "      <td>204</td>\n",
              "      <td>0</td>\n",
              "      <td>0</td>\n",
              "      <td>172</td>\n",
              "      <td>0</td>\n",
              "      <td>1.4</td>\n",
              "      <td>2</td>\n",
              "      <td>0</td>\n",
              "      <td>2</td>\n",
              "      <td>1</td>\n",
              "    </tr>\n",
              "    <tr>\n",
              "      <th>3</th>\n",
              "      <td>56</td>\n",
              "      <td>1</td>\n",
              "      <td>1</td>\n",
              "      <td>120</td>\n",
              "      <td>236</td>\n",
              "      <td>0</td>\n",
              "      <td>1</td>\n",
              "      <td>178</td>\n",
              "      <td>0</td>\n",
              "      <td>0.8</td>\n",
              "      <td>2</td>\n",
              "      <td>0</td>\n",
              "      <td>2</td>\n",
              "      <td>1</td>\n",
              "    </tr>\n",
              "    <tr>\n",
              "      <th>4</th>\n",
              "      <td>57</td>\n",
              "      <td>0</td>\n",
              "      <td>0</td>\n",
              "      <td>120</td>\n",
              "      <td>354</td>\n",
              "      <td>0</td>\n",
              "      <td>1</td>\n",
              "      <td>163</td>\n",
              "      <td>1</td>\n",
              "      <td>0.6</td>\n",
              "      <td>2</td>\n",
              "      <td>0</td>\n",
              "      <td>2</td>\n",
              "      <td>1</td>\n",
              "    </tr>\n",
              "  </tbody>\n",
              "</table>\n",
              "</div>\n",
              "      <button class=\"colab-df-convert\" onclick=\"convertToInteractive('df-75a39ab0-1110-4a52-a1f8-01c4aae9c4de')\"\n",
              "              title=\"Convert this dataframe to an interactive table.\"\n",
              "              style=\"display:none;\">\n",
              "        \n",
              "  <svg xmlns=\"http://www.w3.org/2000/svg\" height=\"24px\"viewBox=\"0 0 24 24\"\n",
              "       width=\"24px\">\n",
              "    <path d=\"M0 0h24v24H0V0z\" fill=\"none\"/>\n",
              "    <path d=\"M18.56 5.44l.94 2.06.94-2.06 2.06-.94-2.06-.94-.94-2.06-.94 2.06-2.06.94zm-11 1L8.5 8.5l.94-2.06 2.06-.94-2.06-.94L8.5 2.5l-.94 2.06-2.06.94zm10 10l.94 2.06.94-2.06 2.06-.94-2.06-.94-.94-2.06-.94 2.06-2.06.94z\"/><path d=\"M17.41 7.96l-1.37-1.37c-.4-.4-.92-.59-1.43-.59-.52 0-1.04.2-1.43.59L10.3 9.45l-7.72 7.72c-.78.78-.78 2.05 0 2.83L4 21.41c.39.39.9.59 1.41.59.51 0 1.02-.2 1.41-.59l7.78-7.78 2.81-2.81c.8-.78.8-2.07 0-2.86zM5.41 20L4 18.59l7.72-7.72 1.47 1.35L5.41 20z\"/>\n",
              "  </svg>\n",
              "      </button>\n",
              "      \n",
              "  <style>\n",
              "    .colab-df-container {\n",
              "      display:flex;\n",
              "      flex-wrap:wrap;\n",
              "      gap: 12px;\n",
              "    }\n",
              "\n",
              "    .colab-df-convert {\n",
              "      background-color: #E8F0FE;\n",
              "      border: none;\n",
              "      border-radius: 50%;\n",
              "      cursor: pointer;\n",
              "      display: none;\n",
              "      fill: #1967D2;\n",
              "      height: 32px;\n",
              "      padding: 0 0 0 0;\n",
              "      width: 32px;\n",
              "    }\n",
              "\n",
              "    .colab-df-convert:hover {\n",
              "      background-color: #E2EBFA;\n",
              "      box-shadow: 0px 1px 2px rgba(60, 64, 67, 0.3), 0px 1px 3px 1px rgba(60, 64, 67, 0.15);\n",
              "      fill: #174EA6;\n",
              "    }\n",
              "\n",
              "    [theme=dark] .colab-df-convert {\n",
              "      background-color: #3B4455;\n",
              "      fill: #D2E3FC;\n",
              "    }\n",
              "\n",
              "    [theme=dark] .colab-df-convert:hover {\n",
              "      background-color: #434B5C;\n",
              "      box-shadow: 0px 1px 3px 1px rgba(0, 0, 0, 0.15);\n",
              "      filter: drop-shadow(0px 1px 2px rgba(0, 0, 0, 0.3));\n",
              "      fill: #FFFFFF;\n",
              "    }\n",
              "  </style>\n",
              "\n",
              "      <script>\n",
              "        const buttonEl =\n",
              "          document.querySelector('#df-75a39ab0-1110-4a52-a1f8-01c4aae9c4de button.colab-df-convert');\n",
              "        buttonEl.style.display =\n",
              "          google.colab.kernel.accessAllowed ? 'block' : 'none';\n",
              "\n",
              "        async function convertToInteractive(key) {\n",
              "          const element = document.querySelector('#df-75a39ab0-1110-4a52-a1f8-01c4aae9c4de');\n",
              "          const dataTable =\n",
              "            await google.colab.kernel.invokeFunction('convertToInteractive',\n",
              "                                                     [key], {});\n",
              "          if (!dataTable) return;\n",
              "\n",
              "          const docLinkHtml = 'Like what you see? Visit the ' +\n",
              "            '<a target=\"_blank\" href=https://colab.research.google.com/notebooks/data_table.ipynb>data table notebook</a>'\n",
              "            + ' to learn more about interactive tables.';\n",
              "          element.innerHTML = '';\n",
              "          dataTable['output_type'] = 'display_data';\n",
              "          await google.colab.output.renderOutput(dataTable, element);\n",
              "          const docLink = document.createElement('div');\n",
              "          docLink.innerHTML = docLinkHtml;\n",
              "          element.appendChild(docLink);\n",
              "        }\n",
              "      </script>\n",
              "    </div>\n",
              "  </div>\n",
              "  "
            ]
          },
          "metadata": {},
          "execution_count": 100
        }
      ]
    },
    {
      "cell_type": "code",
      "source": [
        "#print last 5 rows of dataset\n",
        "heart_data.tail()"
      ],
      "metadata": {
        "id": "2w9s1noDny26",
        "colab": {
          "base_uri": "https://localhost:8080/",
          "height": 206
        },
        "outputId": "27d13b9e-4231-4f99-d319-54c98bd85b55"
      },
      "execution_count": null,
      "outputs": [
        {
          "output_type": "execute_result",
          "data": {
            "text/plain": [
              "     age  sex  cp  trestbps  chol  fbs  restecg  thalach  exang  oldpeak  \\\n",
              "298   57    0   0       140   241    0        1      123      1      0.2   \n",
              "299   45    1   3       110   264    0        1      132      0      1.2   \n",
              "300   68    1   0       144   193    1        1      141      0      3.4   \n",
              "301   57    1   0       130   131    0        1      115      1      1.2   \n",
              "302   57    0   1       130   236    0        0      174      0      0.0   \n",
              "\n",
              "     slope  ca  thal  target  \n",
              "298      1   0     3       0  \n",
              "299      1   0     3       0  \n",
              "300      1   2     3       0  \n",
              "301      1   1     3       0  \n",
              "302      1   1     2       0  "
            ],
            "text/html": [
              "\n",
              "  <div id=\"df-29a05416-5874-474e-96b5-4963c28f113c\">\n",
              "    <div class=\"colab-df-container\">\n",
              "      <div>\n",
              "<style scoped>\n",
              "    .dataframe tbody tr th:only-of-type {\n",
              "        vertical-align: middle;\n",
              "    }\n",
              "\n",
              "    .dataframe tbody tr th {\n",
              "        vertical-align: top;\n",
              "    }\n",
              "\n",
              "    .dataframe thead th {\n",
              "        text-align: right;\n",
              "    }\n",
              "</style>\n",
              "<table border=\"1\" class=\"dataframe\">\n",
              "  <thead>\n",
              "    <tr style=\"text-align: right;\">\n",
              "      <th></th>\n",
              "      <th>age</th>\n",
              "      <th>sex</th>\n",
              "      <th>cp</th>\n",
              "      <th>trestbps</th>\n",
              "      <th>chol</th>\n",
              "      <th>fbs</th>\n",
              "      <th>restecg</th>\n",
              "      <th>thalach</th>\n",
              "      <th>exang</th>\n",
              "      <th>oldpeak</th>\n",
              "      <th>slope</th>\n",
              "      <th>ca</th>\n",
              "      <th>thal</th>\n",
              "      <th>target</th>\n",
              "    </tr>\n",
              "  </thead>\n",
              "  <tbody>\n",
              "    <tr>\n",
              "      <th>298</th>\n",
              "      <td>57</td>\n",
              "      <td>0</td>\n",
              "      <td>0</td>\n",
              "      <td>140</td>\n",
              "      <td>241</td>\n",
              "      <td>0</td>\n",
              "      <td>1</td>\n",
              "      <td>123</td>\n",
              "      <td>1</td>\n",
              "      <td>0.2</td>\n",
              "      <td>1</td>\n",
              "      <td>0</td>\n",
              "      <td>3</td>\n",
              "      <td>0</td>\n",
              "    </tr>\n",
              "    <tr>\n",
              "      <th>299</th>\n",
              "      <td>45</td>\n",
              "      <td>1</td>\n",
              "      <td>3</td>\n",
              "      <td>110</td>\n",
              "      <td>264</td>\n",
              "      <td>0</td>\n",
              "      <td>1</td>\n",
              "      <td>132</td>\n",
              "      <td>0</td>\n",
              "      <td>1.2</td>\n",
              "      <td>1</td>\n",
              "      <td>0</td>\n",
              "      <td>3</td>\n",
              "      <td>0</td>\n",
              "    </tr>\n",
              "    <tr>\n",
              "      <th>300</th>\n",
              "      <td>68</td>\n",
              "      <td>1</td>\n",
              "      <td>0</td>\n",
              "      <td>144</td>\n",
              "      <td>193</td>\n",
              "      <td>1</td>\n",
              "      <td>1</td>\n",
              "      <td>141</td>\n",
              "      <td>0</td>\n",
              "      <td>3.4</td>\n",
              "      <td>1</td>\n",
              "      <td>2</td>\n",
              "      <td>3</td>\n",
              "      <td>0</td>\n",
              "    </tr>\n",
              "    <tr>\n",
              "      <th>301</th>\n",
              "      <td>57</td>\n",
              "      <td>1</td>\n",
              "      <td>0</td>\n",
              "      <td>130</td>\n",
              "      <td>131</td>\n",
              "      <td>0</td>\n",
              "      <td>1</td>\n",
              "      <td>115</td>\n",
              "      <td>1</td>\n",
              "      <td>1.2</td>\n",
              "      <td>1</td>\n",
              "      <td>1</td>\n",
              "      <td>3</td>\n",
              "      <td>0</td>\n",
              "    </tr>\n",
              "    <tr>\n",
              "      <th>302</th>\n",
              "      <td>57</td>\n",
              "      <td>0</td>\n",
              "      <td>1</td>\n",
              "      <td>130</td>\n",
              "      <td>236</td>\n",
              "      <td>0</td>\n",
              "      <td>0</td>\n",
              "      <td>174</td>\n",
              "      <td>0</td>\n",
              "      <td>0.0</td>\n",
              "      <td>1</td>\n",
              "      <td>1</td>\n",
              "      <td>2</td>\n",
              "      <td>0</td>\n",
              "    </tr>\n",
              "  </tbody>\n",
              "</table>\n",
              "</div>\n",
              "      <button class=\"colab-df-convert\" onclick=\"convertToInteractive('df-29a05416-5874-474e-96b5-4963c28f113c')\"\n",
              "              title=\"Convert this dataframe to an interactive table.\"\n",
              "              style=\"display:none;\">\n",
              "        \n",
              "  <svg xmlns=\"http://www.w3.org/2000/svg\" height=\"24px\"viewBox=\"0 0 24 24\"\n",
              "       width=\"24px\">\n",
              "    <path d=\"M0 0h24v24H0V0z\" fill=\"none\"/>\n",
              "    <path d=\"M18.56 5.44l.94 2.06.94-2.06 2.06-.94-2.06-.94-.94-2.06-.94 2.06-2.06.94zm-11 1L8.5 8.5l.94-2.06 2.06-.94-2.06-.94L8.5 2.5l-.94 2.06-2.06.94zm10 10l.94 2.06.94-2.06 2.06-.94-2.06-.94-.94-2.06-.94 2.06-2.06.94z\"/><path d=\"M17.41 7.96l-1.37-1.37c-.4-.4-.92-.59-1.43-.59-.52 0-1.04.2-1.43.59L10.3 9.45l-7.72 7.72c-.78.78-.78 2.05 0 2.83L4 21.41c.39.39.9.59 1.41.59.51 0 1.02-.2 1.41-.59l7.78-7.78 2.81-2.81c.8-.78.8-2.07 0-2.86zM5.41 20L4 18.59l7.72-7.72 1.47 1.35L5.41 20z\"/>\n",
              "  </svg>\n",
              "      </button>\n",
              "      \n",
              "  <style>\n",
              "    .colab-df-container {\n",
              "      display:flex;\n",
              "      flex-wrap:wrap;\n",
              "      gap: 12px;\n",
              "    }\n",
              "\n",
              "    .colab-df-convert {\n",
              "      background-color: #E8F0FE;\n",
              "      border: none;\n",
              "      border-radius: 50%;\n",
              "      cursor: pointer;\n",
              "      display: none;\n",
              "      fill: #1967D2;\n",
              "      height: 32px;\n",
              "      padding: 0 0 0 0;\n",
              "      width: 32px;\n",
              "    }\n",
              "\n",
              "    .colab-df-convert:hover {\n",
              "      background-color: #E2EBFA;\n",
              "      box-shadow: 0px 1px 2px rgba(60, 64, 67, 0.3), 0px 1px 3px 1px rgba(60, 64, 67, 0.15);\n",
              "      fill: #174EA6;\n",
              "    }\n",
              "\n",
              "    [theme=dark] .colab-df-convert {\n",
              "      background-color: #3B4455;\n",
              "      fill: #D2E3FC;\n",
              "    }\n",
              "\n",
              "    [theme=dark] .colab-df-convert:hover {\n",
              "      background-color: #434B5C;\n",
              "      box-shadow: 0px 1px 3px 1px rgba(0, 0, 0, 0.15);\n",
              "      filter: drop-shadow(0px 1px 2px rgba(0, 0, 0, 0.3));\n",
              "      fill: #FFFFFF;\n",
              "    }\n",
              "  </style>\n",
              "\n",
              "      <script>\n",
              "        const buttonEl =\n",
              "          document.querySelector('#df-29a05416-5874-474e-96b5-4963c28f113c button.colab-df-convert');\n",
              "        buttonEl.style.display =\n",
              "          google.colab.kernel.accessAllowed ? 'block' : 'none';\n",
              "\n",
              "        async function convertToInteractive(key) {\n",
              "          const element = document.querySelector('#df-29a05416-5874-474e-96b5-4963c28f113c');\n",
              "          const dataTable =\n",
              "            await google.colab.kernel.invokeFunction('convertToInteractive',\n",
              "                                                     [key], {});\n",
              "          if (!dataTable) return;\n",
              "\n",
              "          const docLinkHtml = 'Like what you see? Visit the ' +\n",
              "            '<a target=\"_blank\" href=https://colab.research.google.com/notebooks/data_table.ipynb>data table notebook</a>'\n",
              "            + ' to learn more about interactive tables.';\n",
              "          element.innerHTML = '';\n",
              "          dataTable['output_type'] = 'display_data';\n",
              "          await google.colab.output.renderOutput(dataTable, element);\n",
              "          const docLink = document.createElement('div');\n",
              "          docLink.innerHTML = docLinkHtml;\n",
              "          element.appendChild(docLink);\n",
              "        }\n",
              "      </script>\n",
              "    </div>\n",
              "  </div>\n",
              "  "
            ]
          },
          "metadata": {},
          "execution_count": 101
        }
      ]
    },
    {
      "cell_type": "code",
      "source": [
        "#number of rows and columns in dataset\n",
        "heart_data.shape"
      ],
      "metadata": {
        "id": "Fl_2cQwBo0JJ",
        "colab": {
          "base_uri": "https://localhost:8080/"
        },
        "outputId": "8f6eeacf-6e59-444f-b3f9-3491d787cb71"
      },
      "execution_count": null,
      "outputs": [
        {
          "output_type": "execute_result",
          "data": {
            "text/plain": [
              "(303, 14)"
            ]
          },
          "metadata": {},
          "execution_count": 102
        }
      ]
    },
    {
      "cell_type": "code",
      "source": [
        "#getting some info about the data\n",
        "heart_data.info()"
      ],
      "metadata": {
        "id": "NbFJHWY0qagq",
        "colab": {
          "base_uri": "https://localhost:8080/"
        },
        "outputId": "a4638d82-b181-425b-ba3a-236fbd359db5"
      },
      "execution_count": null,
      "outputs": [
        {
          "output_type": "stream",
          "name": "stdout",
          "text": [
            "<class 'pandas.core.frame.DataFrame'>\n",
            "RangeIndex: 303 entries, 0 to 302\n",
            "Data columns (total 14 columns):\n",
            " #   Column    Non-Null Count  Dtype  \n",
            "---  ------    --------------  -----  \n",
            " 0   age       303 non-null    int64  \n",
            " 1   sex       303 non-null    int64  \n",
            " 2   cp        303 non-null    int64  \n",
            " 3   trestbps  303 non-null    int64  \n",
            " 4   chol      303 non-null    int64  \n",
            " 5   fbs       303 non-null    int64  \n",
            " 6   restecg   303 non-null    int64  \n",
            " 7   thalach   303 non-null    int64  \n",
            " 8   exang     303 non-null    int64  \n",
            " 9   oldpeak   303 non-null    float64\n",
            " 10  slope     303 non-null    int64  \n",
            " 11  ca        303 non-null    int64  \n",
            " 12  thal      303 non-null    int64  \n",
            " 13  target    303 non-null    int64  \n",
            "dtypes: float64(1), int64(13)\n",
            "memory usage: 33.3 KB\n"
          ]
        }
      ]
    },
    {
      "cell_type": "code",
      "source": [
        "#checking for missing values\n",
        "heart_data.isnull().sum()"
      ],
      "metadata": {
        "id": "vZPRGigMrfma",
        "colab": {
          "base_uri": "https://localhost:8080/"
        },
        "outputId": "f921e611-d6f5-41d4-c575-301ed8d8084c"
      },
      "execution_count": null,
      "outputs": [
        {
          "output_type": "execute_result",
          "data": {
            "text/plain": [
              "age         0\n",
              "sex         0\n",
              "cp          0\n",
              "trestbps    0\n",
              "chol        0\n",
              "fbs         0\n",
              "restecg     0\n",
              "thalach     0\n",
              "exang       0\n",
              "oldpeak     0\n",
              "slope       0\n",
              "ca          0\n",
              "thal        0\n",
              "target      0\n",
              "dtype: int64"
            ]
          },
          "metadata": {},
          "execution_count": 104
        }
      ]
    },
    {
      "cell_type": "code",
      "source": [
        "#stastical methods about data\n",
        "heart_data.describe()"
      ],
      "metadata": {
        "id": "vtOQOR0zr0kE",
        "colab": {
          "base_uri": "https://localhost:8080/",
          "height": 300
        },
        "outputId": "f1016f1c-1743-4ee1-f3f4-422fabd49806"
      },
      "execution_count": null,
      "outputs": [
        {
          "output_type": "execute_result",
          "data": {
            "text/plain": [
              "              age         sex          cp    trestbps        chol         fbs  \\\n",
              "count  303.000000  303.000000  303.000000  303.000000  303.000000  303.000000   \n",
              "mean    54.366337    0.683168    0.966997  131.623762  246.264026    0.148515   \n",
              "std      9.082101    0.466011    1.032052   17.538143   51.830751    0.356198   \n",
              "min     29.000000    0.000000    0.000000   94.000000  126.000000    0.000000   \n",
              "25%     47.500000    0.000000    0.000000  120.000000  211.000000    0.000000   \n",
              "50%     55.000000    1.000000    1.000000  130.000000  240.000000    0.000000   \n",
              "75%     61.000000    1.000000    2.000000  140.000000  274.500000    0.000000   \n",
              "max     77.000000    1.000000    3.000000  200.000000  564.000000    1.000000   \n",
              "\n",
              "          restecg     thalach       exang     oldpeak       slope          ca  \\\n",
              "count  303.000000  303.000000  303.000000  303.000000  303.000000  303.000000   \n",
              "mean     0.528053  149.646865    0.326733    1.039604    1.399340    0.729373   \n",
              "std      0.525860   22.905161    0.469794    1.161075    0.616226    1.022606   \n",
              "min      0.000000   71.000000    0.000000    0.000000    0.000000    0.000000   \n",
              "25%      0.000000  133.500000    0.000000    0.000000    1.000000    0.000000   \n",
              "50%      1.000000  153.000000    0.000000    0.800000    1.000000    0.000000   \n",
              "75%      1.000000  166.000000    1.000000    1.600000    2.000000    1.000000   \n",
              "max      2.000000  202.000000    1.000000    6.200000    2.000000    4.000000   \n",
              "\n",
              "             thal      target  \n",
              "count  303.000000  303.000000  \n",
              "mean     2.313531    0.544554  \n",
              "std      0.612277    0.498835  \n",
              "min      0.000000    0.000000  \n",
              "25%      2.000000    0.000000  \n",
              "50%      2.000000    1.000000  \n",
              "75%      3.000000    1.000000  \n",
              "max      3.000000    1.000000  "
            ],
            "text/html": [
              "\n",
              "  <div id=\"df-173bb382-3e83-493c-846a-5b54132baf8f\">\n",
              "    <div class=\"colab-df-container\">\n",
              "      <div>\n",
              "<style scoped>\n",
              "    .dataframe tbody tr th:only-of-type {\n",
              "        vertical-align: middle;\n",
              "    }\n",
              "\n",
              "    .dataframe tbody tr th {\n",
              "        vertical-align: top;\n",
              "    }\n",
              "\n",
              "    .dataframe thead th {\n",
              "        text-align: right;\n",
              "    }\n",
              "</style>\n",
              "<table border=\"1\" class=\"dataframe\">\n",
              "  <thead>\n",
              "    <tr style=\"text-align: right;\">\n",
              "      <th></th>\n",
              "      <th>age</th>\n",
              "      <th>sex</th>\n",
              "      <th>cp</th>\n",
              "      <th>trestbps</th>\n",
              "      <th>chol</th>\n",
              "      <th>fbs</th>\n",
              "      <th>restecg</th>\n",
              "      <th>thalach</th>\n",
              "      <th>exang</th>\n",
              "      <th>oldpeak</th>\n",
              "      <th>slope</th>\n",
              "      <th>ca</th>\n",
              "      <th>thal</th>\n",
              "      <th>target</th>\n",
              "    </tr>\n",
              "  </thead>\n",
              "  <tbody>\n",
              "    <tr>\n",
              "      <th>count</th>\n",
              "      <td>303.000000</td>\n",
              "      <td>303.000000</td>\n",
              "      <td>303.000000</td>\n",
              "      <td>303.000000</td>\n",
              "      <td>303.000000</td>\n",
              "      <td>303.000000</td>\n",
              "      <td>303.000000</td>\n",
              "      <td>303.000000</td>\n",
              "      <td>303.000000</td>\n",
              "      <td>303.000000</td>\n",
              "      <td>303.000000</td>\n",
              "      <td>303.000000</td>\n",
              "      <td>303.000000</td>\n",
              "      <td>303.000000</td>\n",
              "    </tr>\n",
              "    <tr>\n",
              "      <th>mean</th>\n",
              "      <td>54.366337</td>\n",
              "      <td>0.683168</td>\n",
              "      <td>0.966997</td>\n",
              "      <td>131.623762</td>\n",
              "      <td>246.264026</td>\n",
              "      <td>0.148515</td>\n",
              "      <td>0.528053</td>\n",
              "      <td>149.646865</td>\n",
              "      <td>0.326733</td>\n",
              "      <td>1.039604</td>\n",
              "      <td>1.399340</td>\n",
              "      <td>0.729373</td>\n",
              "      <td>2.313531</td>\n",
              "      <td>0.544554</td>\n",
              "    </tr>\n",
              "    <tr>\n",
              "      <th>std</th>\n",
              "      <td>9.082101</td>\n",
              "      <td>0.466011</td>\n",
              "      <td>1.032052</td>\n",
              "      <td>17.538143</td>\n",
              "      <td>51.830751</td>\n",
              "      <td>0.356198</td>\n",
              "      <td>0.525860</td>\n",
              "      <td>22.905161</td>\n",
              "      <td>0.469794</td>\n",
              "      <td>1.161075</td>\n",
              "      <td>0.616226</td>\n",
              "      <td>1.022606</td>\n",
              "      <td>0.612277</td>\n",
              "      <td>0.498835</td>\n",
              "    </tr>\n",
              "    <tr>\n",
              "      <th>min</th>\n",
              "      <td>29.000000</td>\n",
              "      <td>0.000000</td>\n",
              "      <td>0.000000</td>\n",
              "      <td>94.000000</td>\n",
              "      <td>126.000000</td>\n",
              "      <td>0.000000</td>\n",
              "      <td>0.000000</td>\n",
              "      <td>71.000000</td>\n",
              "      <td>0.000000</td>\n",
              "      <td>0.000000</td>\n",
              "      <td>0.000000</td>\n",
              "      <td>0.000000</td>\n",
              "      <td>0.000000</td>\n",
              "      <td>0.000000</td>\n",
              "    </tr>\n",
              "    <tr>\n",
              "      <th>25%</th>\n",
              "      <td>47.500000</td>\n",
              "      <td>0.000000</td>\n",
              "      <td>0.000000</td>\n",
              "      <td>120.000000</td>\n",
              "      <td>211.000000</td>\n",
              "      <td>0.000000</td>\n",
              "      <td>0.000000</td>\n",
              "      <td>133.500000</td>\n",
              "      <td>0.000000</td>\n",
              "      <td>0.000000</td>\n",
              "      <td>1.000000</td>\n",
              "      <td>0.000000</td>\n",
              "      <td>2.000000</td>\n",
              "      <td>0.000000</td>\n",
              "    </tr>\n",
              "    <tr>\n",
              "      <th>50%</th>\n",
              "      <td>55.000000</td>\n",
              "      <td>1.000000</td>\n",
              "      <td>1.000000</td>\n",
              "      <td>130.000000</td>\n",
              "      <td>240.000000</td>\n",
              "      <td>0.000000</td>\n",
              "      <td>1.000000</td>\n",
              "      <td>153.000000</td>\n",
              "      <td>0.000000</td>\n",
              "      <td>0.800000</td>\n",
              "      <td>1.000000</td>\n",
              "      <td>0.000000</td>\n",
              "      <td>2.000000</td>\n",
              "      <td>1.000000</td>\n",
              "    </tr>\n",
              "    <tr>\n",
              "      <th>75%</th>\n",
              "      <td>61.000000</td>\n",
              "      <td>1.000000</td>\n",
              "      <td>2.000000</td>\n",
              "      <td>140.000000</td>\n",
              "      <td>274.500000</td>\n",
              "      <td>0.000000</td>\n",
              "      <td>1.000000</td>\n",
              "      <td>166.000000</td>\n",
              "      <td>1.000000</td>\n",
              "      <td>1.600000</td>\n",
              "      <td>2.000000</td>\n",
              "      <td>1.000000</td>\n",
              "      <td>3.000000</td>\n",
              "      <td>1.000000</td>\n",
              "    </tr>\n",
              "    <tr>\n",
              "      <th>max</th>\n",
              "      <td>77.000000</td>\n",
              "      <td>1.000000</td>\n",
              "      <td>3.000000</td>\n",
              "      <td>200.000000</td>\n",
              "      <td>564.000000</td>\n",
              "      <td>1.000000</td>\n",
              "      <td>2.000000</td>\n",
              "      <td>202.000000</td>\n",
              "      <td>1.000000</td>\n",
              "      <td>6.200000</td>\n",
              "      <td>2.000000</td>\n",
              "      <td>4.000000</td>\n",
              "      <td>3.000000</td>\n",
              "      <td>1.000000</td>\n",
              "    </tr>\n",
              "  </tbody>\n",
              "</table>\n",
              "</div>\n",
              "      <button class=\"colab-df-convert\" onclick=\"convertToInteractive('df-173bb382-3e83-493c-846a-5b54132baf8f')\"\n",
              "              title=\"Convert this dataframe to an interactive table.\"\n",
              "              style=\"display:none;\">\n",
              "        \n",
              "  <svg xmlns=\"http://www.w3.org/2000/svg\" height=\"24px\"viewBox=\"0 0 24 24\"\n",
              "       width=\"24px\">\n",
              "    <path d=\"M0 0h24v24H0V0z\" fill=\"none\"/>\n",
              "    <path d=\"M18.56 5.44l.94 2.06.94-2.06 2.06-.94-2.06-.94-.94-2.06-.94 2.06-2.06.94zm-11 1L8.5 8.5l.94-2.06 2.06-.94-2.06-.94L8.5 2.5l-.94 2.06-2.06.94zm10 10l.94 2.06.94-2.06 2.06-.94-2.06-.94-.94-2.06-.94 2.06-2.06.94z\"/><path d=\"M17.41 7.96l-1.37-1.37c-.4-.4-.92-.59-1.43-.59-.52 0-1.04.2-1.43.59L10.3 9.45l-7.72 7.72c-.78.78-.78 2.05 0 2.83L4 21.41c.39.39.9.59 1.41.59.51 0 1.02-.2 1.41-.59l7.78-7.78 2.81-2.81c.8-.78.8-2.07 0-2.86zM5.41 20L4 18.59l7.72-7.72 1.47 1.35L5.41 20z\"/>\n",
              "  </svg>\n",
              "      </button>\n",
              "      \n",
              "  <style>\n",
              "    .colab-df-container {\n",
              "      display:flex;\n",
              "      flex-wrap:wrap;\n",
              "      gap: 12px;\n",
              "    }\n",
              "\n",
              "    .colab-df-convert {\n",
              "      background-color: #E8F0FE;\n",
              "      border: none;\n",
              "      border-radius: 50%;\n",
              "      cursor: pointer;\n",
              "      display: none;\n",
              "      fill: #1967D2;\n",
              "      height: 32px;\n",
              "      padding: 0 0 0 0;\n",
              "      width: 32px;\n",
              "    }\n",
              "\n",
              "    .colab-df-convert:hover {\n",
              "      background-color: #E2EBFA;\n",
              "      box-shadow: 0px 1px 2px rgba(60, 64, 67, 0.3), 0px 1px 3px 1px rgba(60, 64, 67, 0.15);\n",
              "      fill: #174EA6;\n",
              "    }\n",
              "\n",
              "    [theme=dark] .colab-df-convert {\n",
              "      background-color: #3B4455;\n",
              "      fill: #D2E3FC;\n",
              "    }\n",
              "\n",
              "    [theme=dark] .colab-df-convert:hover {\n",
              "      background-color: #434B5C;\n",
              "      box-shadow: 0px 1px 3px 1px rgba(0, 0, 0, 0.15);\n",
              "      filter: drop-shadow(0px 1px 2px rgba(0, 0, 0, 0.3));\n",
              "      fill: #FFFFFF;\n",
              "    }\n",
              "  </style>\n",
              "\n",
              "      <script>\n",
              "        const buttonEl =\n",
              "          document.querySelector('#df-173bb382-3e83-493c-846a-5b54132baf8f button.colab-df-convert');\n",
              "        buttonEl.style.display =\n",
              "          google.colab.kernel.accessAllowed ? 'block' : 'none';\n",
              "\n",
              "        async function convertToInteractive(key) {\n",
              "          const element = document.querySelector('#df-173bb382-3e83-493c-846a-5b54132baf8f');\n",
              "          const dataTable =\n",
              "            await google.colab.kernel.invokeFunction('convertToInteractive',\n",
              "                                                     [key], {});\n",
              "          if (!dataTable) return;\n",
              "\n",
              "          const docLinkHtml = 'Like what you see? Visit the ' +\n",
              "            '<a target=\"_blank\" href=https://colab.research.google.com/notebooks/data_table.ipynb>data table notebook</a>'\n",
              "            + ' to learn more about interactive tables.';\n",
              "          element.innerHTML = '';\n",
              "          dataTable['output_type'] = 'display_data';\n",
              "          await google.colab.output.renderOutput(dataTable, element);\n",
              "          const docLink = document.createElement('div');\n",
              "          docLink.innerHTML = docLinkHtml;\n",
              "          element.appendChild(docLink);\n",
              "        }\n",
              "      </script>\n",
              "    </div>\n",
              "  </div>\n",
              "  "
            ]
          },
          "metadata": {},
          "execution_count": 105
        }
      ]
    },
    {
      "cell_type": "code",
      "source": [
        "# checking the distribution of target variable\n",
        "heart_data[\"target\"].value_counts()"
      ],
      "metadata": {
        "id": "PJbGYW2vrvAi",
        "colab": {
          "base_uri": "https://localhost:8080/"
        },
        "outputId": "f928278a-793d-4e1d-90a5-d96f89a34820"
      },
      "execution_count": null,
      "outputs": [
        {
          "output_type": "execute_result",
          "data": {
            "text/plain": [
              "1    165\n",
              "0    138\n",
              "Name: target, dtype: int64"
            ]
          },
          "metadata": {},
          "execution_count": 106
        }
      ]
    },
    {
      "cell_type": "code",
      "source": [],
      "metadata": {
        "id": "xvG_3qTArwOC"
      },
      "execution_count": null,
      "outputs": []
    },
    {
      "cell_type": "markdown",
      "source": [
        "Spliting the Features And Target"
      ],
      "metadata": {
        "id": "4136Z0mk-QdM"
      }
    },
    {
      "cell_type": "code",
      "source": [
        "X=heart_data.drop(columns=\"target\",axis=1)\n",
        "y=heart_data[\"target\"]"
      ],
      "metadata": {
        "id": "wUyNPIurrwZ6"
      },
      "execution_count": null,
      "outputs": []
    },
    {
      "cell_type": "code",
      "source": [
        "print(X)"
      ],
      "metadata": {
        "id": "PVkJcSX_-wkM",
        "outputId": "043f0d6b-7911-4229-d183-cb01e9eef89e",
        "colab": {
          "base_uri": "https://localhost:8080/"
        }
      },
      "execution_count": null,
      "outputs": [
        {
          "output_type": "stream",
          "name": "stdout",
          "text": [
            "     age  sex  cp  trestbps  chol  fbs  restecg  thalach  exang  oldpeak  \\\n",
            "0     63    1   3       145   233    1        0      150      0      2.3   \n",
            "1     37    1   2       130   250    0        1      187      0      3.5   \n",
            "2     41    0   1       130   204    0        0      172      0      1.4   \n",
            "3     56    1   1       120   236    0        1      178      0      0.8   \n",
            "4     57    0   0       120   354    0        1      163      1      0.6   \n",
            "..   ...  ...  ..       ...   ...  ...      ...      ...    ...      ...   \n",
            "298   57    0   0       140   241    0        1      123      1      0.2   \n",
            "299   45    1   3       110   264    0        1      132      0      1.2   \n",
            "300   68    1   0       144   193    1        1      141      0      3.4   \n",
            "301   57    1   0       130   131    0        1      115      1      1.2   \n",
            "302   57    0   1       130   236    0        0      174      0      0.0   \n",
            "\n",
            "     slope  ca  thal  \n",
            "0        0   0     1  \n",
            "1        0   0     2  \n",
            "2        2   0     2  \n",
            "3        2   0     2  \n",
            "4        2   0     2  \n",
            "..     ...  ..   ...  \n",
            "298      1   0     3  \n",
            "299      1   0     3  \n",
            "300      1   2     3  \n",
            "301      1   1     3  \n",
            "302      1   1     2  \n",
            "\n",
            "[303 rows x 13 columns]\n"
          ]
        }
      ]
    },
    {
      "cell_type": "code",
      "source": [
        "print(y)"
      ],
      "metadata": {
        "id": "7SXoAjYU_o9Z",
        "colab": {
          "base_uri": "https://localhost:8080/"
        },
        "outputId": "71e7bec7-4364-4143-b885-31e6cc5e8983"
      },
      "execution_count": null,
      "outputs": [
        {
          "output_type": "stream",
          "name": "stdout",
          "text": [
            "0      1\n",
            "1      1\n",
            "2      1\n",
            "3      1\n",
            "4      1\n",
            "      ..\n",
            "298    0\n",
            "299    0\n",
            "300    0\n",
            "301    0\n",
            "302    0\n",
            "Name: target, Length: 303, dtype: int64\n"
          ]
        }
      ]
    },
    {
      "cell_type": "code",
      "source": [
        "X.size"
      ],
      "metadata": {
        "colab": {
          "base_uri": "https://localhost:8080/"
        },
        "id": "ossqQSIYQyw4",
        "outputId": "714444fb-d196-400e-fd71-47119aa10fb3"
      },
      "execution_count": null,
      "outputs": [
        {
          "output_type": "execute_result",
          "data": {
            "text/plain": [
              "3939"
            ]
          },
          "metadata": {},
          "execution_count": 110
        }
      ]
    },
    {
      "cell_type": "code",
      "source": [
        "from sklearn.preprocessing import StandardScaler\n",
        "\n",
        "std=StandardScaler().fit(X)\n",
        "X_std=std.transform(X)"
      ],
      "metadata": {
        "id": "Cyr8OyUCBSMH"
      },
      "execution_count": null,
      "outputs": []
    },
    {
      "cell_type": "markdown",
      "source": [
        "Model Training \n",
        "\n",
        "# **Logistic Regression Model**"
      ],
      "metadata": {
        "id": "mfDumPzYBV6N"
      }
    },
    {
      "cell_type": "markdown",
      "source": [
        "Splitting the Data into Training Data and Test Data"
      ],
      "metadata": {
        "id": "R36HzmoR_67e"
      }
    },
    {
      "cell_type": "code",
      "source": [
        "X_train_std,X_test_std,y_train,y_test=train_test_split(X_std,y,random_state=10,test_size=0.3,shuffle=True)\n"
      ],
      "metadata": {
        "id": "i3FKuNKvAEf8"
      },
      "execution_count": null,
      "outputs": []
    },
    {
      "cell_type": "code",
      "source": [
        "LR = LogisticRegression(solver=\"liblinear\")\n"
      ],
      "metadata": {
        "id": "rmaTfISaBdBs"
      },
      "execution_count": null,
      "outputs": []
    },
    {
      "cell_type": "code",
      "source": [
        "#training the model using training data"
      ],
      "metadata": {
        "id": "MxAXRGVaBjN8"
      },
      "execution_count": null,
      "outputs": []
    },
    {
      "cell_type": "code",
      "source": [
        "LR.fit(X_train_std,y_train)"
      ],
      "metadata": {
        "id": "S9SwpPPmBprd",
        "colab": {
          "base_uri": "https://localhost:8080/"
        },
        "outputId": "c067eb97-eb7e-42db-c6e9-c667d98180f3"
      },
      "execution_count": null,
      "outputs": [
        {
          "output_type": "execute_result",
          "data": {
            "text/plain": [
              "LogisticRegression(solver='liblinear')"
            ]
          },
          "metadata": {},
          "execution_count": 115
        }
      ]
    },
    {
      "cell_type": "markdown",
      "source": [
        "Modal Evaluation\n",
        "\n",
        "Accuracy Score"
      ],
      "metadata": {
        "id": "iV0Fpr5SC1kU"
      }
    },
    {
      "cell_type": "code",
      "source": [
        "#accuracy on training data\n",
        "X_train_prediction=LR.predict(X_train_std)\n",
        "trainig_data_accuracy= accuracy_score(X_train_prediction,y_train)\n"
      ],
      "metadata": {
        "id": "9s8QEGY-C2yF"
      },
      "execution_count": null,
      "outputs": []
    },
    {
      "cell_type": "code",
      "source": [
        "print(\"Accuracy On Training Data : \", trainig_data_accuracy*100)"
      ],
      "metadata": {
        "id": "AyUVrHgjDmh9",
        "colab": {
          "base_uri": "https://localhost:8080/"
        },
        "outputId": "6bdd02b2-53a4-4f9c-f57e-6df5c80ccc39"
      },
      "execution_count": null,
      "outputs": [
        {
          "output_type": "stream",
          "name": "stdout",
          "text": [
            "Accuracy On Training Data :  85.37735849056604\n"
          ]
        }
      ]
    },
    {
      "cell_type": "code",
      "source": [
        "#accuracy on testing data\n",
        "X_test_prediction=LR.predict(X_test_std)\n",
        "testing_data_accuracy= accuracy_score(X_test_prediction,y_test)\n"
      ],
      "metadata": {
        "id": "mvmtAkZ3D41J"
      },
      "execution_count": null,
      "outputs": []
    },
    {
      "cell_type": "code",
      "source": [
        "print(\"Accuracy On Testing Data : \", testing_data_accuracy*100)"
      ],
      "metadata": {
        "id": "zr2V-OleEQ_F",
        "colab": {
          "base_uri": "https://localhost:8080/"
        },
        "outputId": "6a80b0c8-8748-413c-a812-5c6dc2b81d43"
      },
      "execution_count": null,
      "outputs": [
        {
          "output_type": "stream",
          "name": "stdout",
          "text": [
            "Accuracy On Testing Data :  76.92307692307693\n"
          ]
        }
      ]
    },
    {
      "cell_type": "markdown",
      "source": [
        "Checking Accuracy using confusion matrix."
      ],
      "metadata": {
        "id": "Powf7kNiO61v"
      }
    },
    {
      "cell_type": "code",
      "source": [
        "from sklearn.metrics import confusion_matrix\n",
        "cm = confusion_matrix(X_train_prediction,y_train, labels=[0, 1])\n",
        "\n",
        "print(cm)"
      ],
      "metadata": {
        "colab": {
          "base_uri": "https://localhost:8080/"
        },
        "outputId": "a2c1ebe8-f84b-4eed-d94a-3977428f2f2c",
        "id": "YXOjJmZuO61x"
      },
      "execution_count": null,
      "outputs": [
        {
          "output_type": "stream",
          "name": "stdout",
          "text": [
            "[[ 68  11]\n",
            " [ 20 113]]\n"
          ]
        }
      ]
    },
    {
      "cell_type": "code",
      "source": [
        "fig, ax = plt.subplots(figsize=(7.5, 7.5))\n",
        "ax.matshow(cm, cmap=plt.cm.Blues, alpha=0.3)\n",
        "for i in range(cm.shape[0]):\n",
        "    for j in range(cm.shape[1]):\n",
        "        ax.text(x=j, y=i,s=cm[i, j], va='center', ha='center', size='xx-large')\n",
        " \n",
        "plt.xlabel('Predictions', fontsize=18)\n",
        "plt.ylabel('Actuals', fontsize=18)\n",
        "plt.title('Confusion Matrix', fontsize=18)"
      ],
      "metadata": {
        "colab": {
          "base_uri": "https://localhost:8080/",
          "height": 518
        },
        "id": "tDJH2T_-QKf-",
        "outputId": "bf0c2a79-3e20-4c51-ff67-f6f7f38df953"
      },
      "execution_count": null,
      "outputs": [
        {
          "output_type": "execute_result",
          "data": {
            "text/plain": [
              "Text(0.5, 1.05, 'Confusion Matrix')"
            ]
          },
          "metadata": {},
          "execution_count": 121
        },
        {
          "output_type": "display_data",
          "data": {
            "text/plain": [
              "<Figure size 540x540 with 1 Axes>"
            ],
            "image/png": "[encoded data removed]"
          },
          "metadata": {
            "needs_background": "light"
          }
        }
      ]
    },
    {
      "cell_type": "code",
      "source": [
        "tn, fp, fn, tp = confusion_matrix(list(X_train_prediction), list(y_train), labels=[0, 1]).ravel()\n",
        "\n",
        "print('True Positive', tp)\n",
        "print('True Negative', tn)\n",
        "print('False Positive', fp)\n",
        "print('False Negative', fn)"
      ],
      "metadata": {
        "colab": {
          "base_uri": "https://localhost:8080/"
        },
        "outputId": "3004acea-645e-4aa9-c708-3a1df5f72ce2",
        "id": "-__qQ92TO61y"
      },
      "execution_count": null,
      "outputs": [
        {
          "output_type": "stream",
          "name": "stdout",
          "text": [
            "True Positive 113\n",
            "True Negative 68\n",
            "False Positive 11\n",
            "False Negative 20\n"
          ]
        }
      ]
    },
    {
      "cell_type": "code",
      "source": [
        "acc = (tp+tn) / (tp+tn+fn+fp)\n",
        "\n",
        "print('Accuracy On Training Data : ',acc*100)"
      ],
      "metadata": {
        "colab": {
          "base_uri": "https://localhost:8080/"
        },
        "outputId": "dc3edb1f-5470-45d2-a71d-e91373458184",
        "id": "t-sUkDC_O61z"
      },
      "execution_count": null,
      "outputs": [
        {
          "output_type": "stream",
          "name": "stdout",
          "text": [
            "Accuracy On Training Data :  85.37735849056604\n"
          ]
        }
      ]
    },
    {
      "cell_type": "code",
      "source": [
        "tn, fp, fn, tp = confusion_matrix(list(X_test_prediction), list(y_test), labels=[0, 1]).ravel()\n",
        "\n",
        "print('True Positive', tp)\n",
        "print('True Negative', tn)\n",
        "print('False Positive', fp)\n",
        "print('False Negative', fn)"
      ],
      "metadata": {
        "colab": {
          "base_uri": "https://localhost:8080/"
        },
        "outputId": "c8fe2841-5724-409f-ddce-c477b2c97c94",
        "id": "ZCfsHzFuO610"
      },
      "execution_count": null,
      "outputs": [
        {
          "output_type": "stream",
          "name": "stdout",
          "text": [
            "True Positive 37\n",
            "True Negative 33\n",
            "False Positive 4\n",
            "False Negative 17\n"
          ]
        }
      ]
    },
    {
      "cell_type": "code",
      "source": [
        "acc = (tp+tn) / (tp+tn+fn+fp)\n",
        "\n",
        "print('Accuracy On Testing Data : ',acc*100)"
      ],
      "metadata": {
        "colab": {
          "base_uri": "https://localhost:8080/"
        },
        "outputId": "b6b8a76f-be7c-4431-cb51-ff55c6e22a1e",
        "id": "uIWYO2BnO610"
      },
      "execution_count": null,
      "outputs": [
        {
          "output_type": "stream",
          "name": "stdout",
          "text": [
            "Accuracy On Testing Data :  76.92307692307693\n"
          ]
        }
      ]
    },
    {
      "cell_type": "markdown",
      "source": [
        "Sensitivity Score"
      ],
      "metadata": {
        "id": "3jIjdUQ_AqtU"
      }
    },
    {
      "cell_type": "code",
      "source": [
        "sen = (tp)/(tp+fn)\n",
        "print('Sensitivity Score is :',sen*100)"
      ],
      "metadata": {
        "colab": {
          "base_uri": "https://localhost:8080/"
        },
        "id": "ct9HiT2NA1hD",
        "outputId": "accd45c1-3e5c-4386-f61d-3a62b66b6933"
      },
      "execution_count": null,
      "outputs": [
        {
          "output_type": "stream",
          "name": "stdout",
          "text": [
            "Sensitivity Score is : 68.51851851851852\n"
          ]
        }
      ]
    },
    {
      "cell_type": "markdown",
      "source": [
        "Specificity Score"
      ],
      "metadata": {
        "id": "7yov0yttBseC"
      }
    },
    {
      "cell_type": "code",
      "source": [
        "spe = (tn)/(tn+fp)\n",
        "print('Specificity Score is :',spe*100)"
      ],
      "metadata": {
        "colab": {
          "base_uri": "https://localhost:8080/"
        },
        "id": "aKx7ruEFBvIu",
        "outputId": "b56e1c38-1bca-495f-ac43-82f7819f1bba"
      },
      "execution_count": null,
      "outputs": [
        {
          "output_type": "stream",
          "name": "stdout",
          "text": [
            "Specificity Score is : 89.1891891891892\n"
          ]
        }
      ]
    },
    {
      "cell_type": "markdown",
      "source": [
        "Positive Predictive Value"
      ],
      "metadata": {
        "id": "VO3ywCGbJKIO"
      }
    },
    {
      "cell_type": "code",
      "source": [
        "ppv = (tp)/(tp+fp)\n",
        "print('Positive Predictive Value is :',ppv*100)"
      ],
      "metadata": {
        "colab": {
          "base_uri": "https://localhost:8080/"
        },
        "id": "ADxgDFcLJJ4k",
        "outputId": "7a5bfb41-efc4-43af-ca03-887477df2c24"
      },
      "execution_count": null,
      "outputs": [
        {
          "output_type": "stream",
          "name": "stdout",
          "text": [
            "Positive Predictive Value is : 90.2439024390244\n"
          ]
        }
      ]
    },
    {
      "cell_type": "markdown",
      "source": [
        "Negative Predictive Value"
      ],
      "metadata": {
        "id": "7vjOHunOJcwJ"
      }
    },
    {
      "cell_type": "code",
      "source": [
        "npv =(tn)/(tn+fn)\n",
        "print('Negative Predictive Value is :',npv*100)"
      ],
      "metadata": {
        "colab": {
          "base_uri": "https://localhost:8080/"
        },
        "id": "xk8IL9acJiOW",
        "outputId": "b38dcb9a-094d-4f6c-cf4a-308d76a51245"
      },
      "execution_count": null,
      "outputs": [
        {
          "output_type": "stream",
          "name": "stdout",
          "text": [
            "Negative Predictive Value is : 66.0\n"
          ]
        }
      ]
    },
    {
      "cell_type": "markdown",
      "source": [
        "# **Multinomial** **Naive Bayes Model**"
      ],
      "metadata": {
        "id": "jm7Epi-sMJXL"
      }
    },
    {
      "cell_type": "markdown",
      "source": [
        "Splitting the Data into Training Data and Test Data\n",
        "\n",
        "\n",
        "\n"
      ],
      "metadata": {
        "id": "y8EVBySDNWwr"
      }
    },
    {
      "cell_type": "code",
      "source": [
        "X_train,X_test,y_train,y_test = train_test_split(X,y,test_size=0.2,stratify=y,random_state=3)"
      ],
      "metadata": {
        "id": "eA8PTKryNWwr"
      },
      "execution_count": null,
      "outputs": []
    },
    {
      "cell_type": "code",
      "source": [
        "NB=MultinomialNB()\n"
      ],
      "metadata": {
        "id": "cVFUURSVykfi"
      },
      "execution_count": null,
      "outputs": []
    },
    {
      "cell_type": "code",
      "source": [
        "NB.fit(X_train,y_train)"
      ],
      "metadata": {
        "colab": {
          "base_uri": "https://localhost:8080/"
        },
        "id": "GZkTy12i0bDO",
        "outputId": "1b9a8b68-a307-4531-868e-ff80f0f327f0"
      },
      "execution_count": null,
      "outputs": [
        {
          "output_type": "execute_result",
          "data": {
            "text/plain": [
              "MultinomialNB()"
            ]
          },
          "metadata": {},
          "execution_count": 195
        }
      ]
    },
    {
      "cell_type": "markdown",
      "source": [
        "Modal Evaluation\n",
        "\n",
        "Accuracy Score"
      ],
      "metadata": {
        "id": "lG-ufH4faeXK"
      }
    },
    {
      "cell_type": "code",
      "source": [
        "X_train_prediction=NB.predict(X_train)\n",
        "trainig_data_accuracy= accuracy_score(X_train_prediction,y_train)"
      ],
      "metadata": {
        "id": "_6dSxjBN0eHV"
      },
      "execution_count": null,
      "outputs": []
    },
    {
      "cell_type": "code",
      "source": [
        "print(\"Accuracy On Training Data : \", trainig_data_accuracy*100)"
      ],
      "metadata": {
        "colab": {
          "base_uri": "https://localhost:8080/"
        },
        "id": "barXAoMi0nUJ",
        "outputId": "d4b61420-4e6d-44d8-a8d7-b34be4d993de"
      },
      "execution_count": null,
      "outputs": [
        {
          "output_type": "stream",
          "name": "stdout",
          "text": [
            "Accuracy On Training Data :  75.20661157024794\n"
          ]
        }
      ]
    },
    {
      "cell_type": "code",
      "source": [
        "X_test_prediction=NB.predict(X_test)\n",
        "testing_data_accuracy= accuracy_score(X_test_prediction,y_test)"
      ],
      "metadata": {
        "id": "hQ3wi_qR0r5r"
      },
      "execution_count": null,
      "outputs": []
    },
    {
      "cell_type": "code",
      "source": [
        "print(\"Accuracy On Testing Data : \", testing_data_accuracy*100)"
      ],
      "metadata": {
        "colab": {
          "base_uri": "https://localhost:8080/"
        },
        "id": "qhg0_UG40xD2",
        "outputId": "e52a088d-ace2-4c89-b70c-412755709b4a"
      },
      "execution_count": null,
      "outputs": [
        {
          "output_type": "stream",
          "name": "stdout",
          "text": [
            "Accuracy On Testing Data :  73.77049180327869\n"
          ]
        }
      ]
    },
    {
      "cell_type": "markdown",
      "source": [
        "Checking Accuracy using confusion matrix."
      ],
      "metadata": {
        "id": "aoRsX7QIOPl2"
      }
    },
    {
      "cell_type": "code",
      "source": [
        "from sklearn.metrics import confusion_matrix\n",
        "cm = confusion_matrix(X_train_prediction,y_train, labels=[0, 1])\n",
        "\n",
        "print(cm)"
      ],
      "metadata": {
        "colab": {
          "base_uri": "https://localhost:8080/"
        },
        "id": "IqRq7Whf4GMn",
        "outputId": "7f86110f-6180-46df-95b8-142e28bf9338"
      },
      "execution_count": null,
      "outputs": [
        {
          "output_type": "stream",
          "name": "stdout",
          "text": [
            "[[ 78  28]\n",
            " [ 32 104]]\n"
          ]
        }
      ]
    },
    {
      "cell_type": "code",
      "source": [
        "fig, ax = plt.subplots(figsize=(7.5, 7.5))\n",
        "ax.matshow(cm, cmap=plt.cm.Blues, alpha=0.3)\n",
        "for i in range(cm.shape[0]):\n",
        "    for j in range(cm.shape[1]):\n",
        "        ax.text(x=j, y=i,s=cm[i, j], va='center', ha='center', size='xx-large')\n",
        " \n",
        "plt.xlabel('Predictions', fontsize=18)\n",
        "plt.ylabel('Actuals', fontsize=18)\n",
        "plt.title('Confusion Matrix', fontsize=18)"
      ],
      "metadata": {
        "id": "28pHJn8VRIpB",
        "outputId": "0bd748b7-b1a8-4ccd-afe6-1d320fdcb935",
        "colab": {
          "base_uri": "https://localhost:8080/",
          "height": 518
        }
      },
      "execution_count": null,
      "outputs": [
        {
          "output_type": "execute_result",
          "data": {
            "text/plain": [
              "Text(0.5, 1.05, 'Confusion Matrix')"
            ]
          },
          "metadata": {},
          "execution_count": 201
        },
        {
          "output_type": "display_data",
          "data": {
            "text/plain": [
              "<Figure size 540x540 with 1 Axes>"
            ],
            "image/png": "[encoded data removed]"
          },
          "metadata": {
            "needs_background": "light"
          }
        }
      ]
    },
    {
      "cell_type": "code",
      "source": [
        "tn, fp, fn, tp = confusion_matrix(list(X_train_prediction), list(y_train), labels=[0, 1]).ravel()\n",
        "\n",
        "print('True Positive', tp)\n",
        "print('True Negative', tn)\n",
        "print('False Positive', fp)\n",
        "print('False Negative', fn)"
      ],
      "metadata": {
        "colab": {
          "base_uri": "https://localhost:8080/"
        },
        "id": "V_7yZYcb5NeX",
        "outputId": "cb75bc7f-1aab-49d2-da4c-1c404570e65d"
      },
      "execution_count": null,
      "outputs": [
        {
          "output_type": "stream",
          "name": "stdout",
          "text": [
            "True Positive 104\n",
            "True Negative 78\n",
            "False Positive 28\n",
            "False Negative 32\n"
          ]
        }
      ]
    },
    {
      "cell_type": "code",
      "source": [
        "acc = (tp+tn) / (tp+tn+fn+fp)\n",
        "\n",
        "print('Accuracy On Training Data : ',acc)"
      ],
      "metadata": {
        "colab": {
          "base_uri": "https://localhost:8080/"
        },
        "id": "SgrFbfeD5egV",
        "outputId": "c57d014a-8088-43c7-f7c7-c4b6df605eb4"
      },
      "execution_count": null,
      "outputs": [
        {
          "output_type": "stream",
          "name": "stdout",
          "text": [
            "Accuracy On Training Data :  0.7520661157024794\n"
          ]
        }
      ]
    },
    {
      "cell_type": "code",
      "source": [
        "tn, fp, fn, tp = confusion_matrix(list(X_test_prediction), list(y_test), labels=[0, 1]).ravel()\n",
        "\n",
        "print('True Positive', tp)\n",
        "print('True Negative', tn)\n",
        "print('False Positive', fp)\n",
        "print('False Negative', fn)"
      ],
      "metadata": {
        "colab": {
          "base_uri": "https://localhost:8080/"
        },
        "id": "hF6v4DfA6AX6",
        "outputId": "ece8a0b5-2087-494a-9b53-d500a969d2e0"
      },
      "execution_count": null,
      "outputs": [
        {
          "output_type": "stream",
          "name": "stdout",
          "text": [
            "True Positive 24\n",
            "True Negative 21\n",
            "False Positive 9\n",
            "False Negative 7\n"
          ]
        }
      ]
    },
    {
      "cell_type": "code",
      "source": [
        "acc = (tp+tn) / (tp+tn+fn+fp)\n",
        "\n",
        "print('Accuracy On Testing Data : ',acc*100)"
      ],
      "metadata": {
        "colab": {
          "base_uri": "https://localhost:8080/"
        },
        "id": "a_F17IyS02Jb",
        "outputId": "75b04757-c7d4-4171-d0d4-187d02bbd36e"
      },
      "execution_count": null,
      "outputs": [
        {
          "output_type": "stream",
          "name": "stdout",
          "text": [
            "Accuracy On Testing Data :  73.77049180327869\n"
          ]
        }
      ]
    },
    {
      "cell_type": "code",
      "source": [],
      "metadata": {
        "id": "qjUtr4pqOmx2"
      },
      "execution_count": null,
      "outputs": []
    },
    {
      "cell_type": "markdown",
      "source": [
        "Sensitivity Score"
      ],
      "metadata": {
        "id": "2fDhqAsbOXwe"
      }
    },
    {
      "cell_type": "code",
      "source": [
        "sen = (tp)/(tp+fn)\n",
        "print('Sensitivity Score is :',sen*100)"
      ],
      "metadata": {
        "colab": {
          "base_uri": "https://localhost:8080/"
        },
        "outputId": "88c19e2c-d5c6-48f7-cdb6-5ba64e41026a",
        "id": "q4Xt1o7ROXwn"
      },
      "execution_count": null,
      "outputs": [
        {
          "output_type": "stream",
          "name": "stdout",
          "text": [
            "Sensitivity Score is : 77.41935483870968\n"
          ]
        }
      ]
    },
    {
      "cell_type": "markdown",
      "source": [
        "Specificity Score"
      ],
      "metadata": {
        "id": "WWTcNnLFOXwo"
      }
    },
    {
      "cell_type": "code",
      "source": [
        "spe = (tn)/(tn+fp)\n",
        "print('Specificity Score is :',spe*100)"
      ],
      "metadata": {
        "colab": {
          "base_uri": "https://localhost:8080/"
        },
        "outputId": "c8f63841-4860-4223-d5e2-142acbbef63f",
        "id": "xtQUE3m6OXwo"
      },
      "execution_count": null,
      "outputs": [
        {
          "output_type": "stream",
          "name": "stdout",
          "text": [
            "Specificity Score is : 70.0\n"
          ]
        }
      ]
    },
    {
      "cell_type": "markdown",
      "source": [
        "Positive Predictive Value"
      ],
      "metadata": {
        "id": "itj0qXEoOXwo"
      }
    },
    {
      "cell_type": "code",
      "source": [
        "ppv = (tp)/(tp+fp)\n",
        "print('Positive Predictive Value is :',ppv*100)"
      ],
      "metadata": {
        "colab": {
          "base_uri": "https://localhost:8080/"
        },
        "outputId": "a5672e66-84f4-4865-817b-12ab228c6f6e",
        "id": "HFxwAQsPOXwo"
      },
      "execution_count": null,
      "outputs": [
        {
          "output_type": "stream",
          "name": "stdout",
          "text": [
            "Positive Predictive Value is : 72.72727272727273\n"
          ]
        }
      ]
    },
    {
      "cell_type": "markdown",
      "source": [
        "Negative Predictive Value"
      ],
      "metadata": {
        "id": "rMV-pLPTOXwp"
      }
    },
    {
      "cell_type": "code",
      "source": [
        "npv =(tn)/(tn+fn)\n",
        "print('Negative Predictive Value is :',npv*100)"
      ],
      "metadata": {
        "colab": {
          "base_uri": "https://localhost:8080/"
        },
        "outputId": "34228000-49ee-4664-fbd8-9647a1514d53",
        "id": "biYnbnMnOXwp"
      },
      "execution_count": null,
      "outputs": [
        {
          "output_type": "stream",
          "name": "stdout",
          "text": [
            "Negative Predictive Value is : 75.0\n"
          ]
        }
      ]
    },
    {
      "cell_type": "markdown",
      "source": [
        "# **Decision Tree Model**"
      ],
      "metadata": {
        "id": "8pxlhpI9PPXB"
      }
    },
    {
      "cell_type": "markdown",
      "source": [
        "Splitting the Data into Training Data and Test Data\n"
      ],
      "metadata": {
        "id": "KK9HMVRgPtuu"
      }
    },
    {
      "cell_type": "code",
      "source": [
        "X_train_std,X_test_std,y_train,y_test=train_test_split(X_std,y,random_state=10,test_size=0.3,shuffle=True)\n"
      ],
      "metadata": {
        "id": "bzY-FaRoPse0"
      },
      "execution_count": null,
      "outputs": []
    },
    {
      "cell_type": "code",
      "source": [
        "dt=DecisionTreeClassifier(max_depth=11)\n",
        "dt.fit(X_train_std,y_train)"
      ],
      "metadata": {
        "colab": {
          "base_uri": "https://localhost:8080/"
        },
        "id": "B0vNoLByP8OA",
        "outputId": "74c701e4-5ae8-4182-cc59-3d1759e0c17e"
      },
      "execution_count": null,
      "outputs": [
        {
          "output_type": "execute_result",
          "data": {
            "text/plain": [
              "DecisionTreeClassifier(max_depth=11)"
            ]
          },
          "metadata": {},
          "execution_count": 148
        }
      ]
    },
    {
      "cell_type": "markdown",
      "source": [
        "Modal Evaluation\n",
        "\n",
        "Accuracy Score"
      ],
      "metadata": {
        "id": "1mHZKhjKahFW"
      }
    },
    {
      "cell_type": "code",
      "source": [
        "X_train_prediction=dt.predict(X_train_std)\n",
        "trainig_data_accuracy= accuracy_score(X_train_prediction,y_train)"
      ],
      "metadata": {
        "id": "dRxuo7euUAo1"
      },
      "execution_count": null,
      "outputs": []
    },
    {
      "cell_type": "code",
      "source": [
        "print(\"Accuracy On Training Data : \", trainig_data_accuracy*100)"
      ],
      "metadata": {
        "colab": {
          "base_uri": "https://localhost:8080/"
        },
        "outputId": "fc6bf629-ff0e-42eb-97e0-64532cce1fe6",
        "id": "lVTuixHsUOAU"
      },
      "execution_count": null,
      "outputs": [
        {
          "output_type": "stream",
          "name": "stdout",
          "text": [
            "Accuracy On Training Data :  100.0\n"
          ]
        }
      ]
    },
    {
      "cell_type": "code",
      "source": [
        "X_test_prediction=dt.predict(X_test_std)\n",
        "testing_data_accuracy= accuracy_score(X_test_prediction,y_test)"
      ],
      "metadata": {
        "id": "tHcqxzHqUOAe"
      },
      "execution_count": null,
      "outputs": []
    },
    {
      "cell_type": "code",
      "source": [
        "print(\"Accuracy On Testing Data : \", testing_data_accuracy*100)"
      ],
      "metadata": {
        "colab": {
          "base_uri": "https://localhost:8080/"
        },
        "outputId": "44f25242-5d21-4a2a-d10c-75cb507f23e5",
        "id": "9GIWY5OtUOAe"
      },
      "execution_count": null,
      "outputs": [
        {
          "output_type": "stream",
          "name": "stdout",
          "text": [
            "Accuracy On Testing Data :  74.72527472527473\n"
          ]
        }
      ]
    },
    {
      "cell_type": "markdown",
      "source": [
        "Checking Accuracy using confusion matrix."
      ],
      "metadata": {
        "id": "LizJPMq7Vem5"
      }
    },
    {
      "cell_type": "code",
      "source": [
        "from sklearn.metrics import confusion_matrix\n",
        "cm = confusion_matrix(X_train_prediction,y_train, labels=[0, 1])\n",
        "\n",
        "print(cm)"
      ],
      "metadata": {
        "colab": {
          "base_uri": "https://localhost:8080/"
        },
        "outputId": "05454cc9-5f7e-4dee-9bce-a294bb147878",
        "id": "Zu138RFHVem6"
      },
      "execution_count": null,
      "outputs": [
        {
          "output_type": "stream",
          "name": "stdout",
          "text": [
            "[[ 88   0]\n",
            " [  0 124]]\n"
          ]
        }
      ]
    },
    {
      "cell_type": "code",
      "source": [
        "fig, ax = plt.subplots(figsize=(7.5, 7.5))\n",
        "ax.matshow(cm, cmap=plt.cm.Blues, alpha=0.3)\n",
        "for i in range(cm.shape[0]):\n",
        "    for j in range(cm.shape[1]):\n",
        "        ax.text(x=j, y=i,s=cm[i, j], va='center', ha='center', size='xx-large')\n",
        " \n",
        "plt.xlabel('Predictions', fontsize=18)\n",
        "plt.ylabel('Actuals', fontsize=18)\n",
        "plt.title('Confusion Matrix', fontsize=18)"
      ],
      "metadata": {
        "id": "Cbcr0fsXRNcY",
        "outputId": "a95791ca-262c-4d1c-8d80-2894442a6d46",
        "colab": {
          "base_uri": "https://localhost:8080/"
        }
      },
      "execution_count": null,
      "outputs": [
        {
          "output_type": "execute_result",
          "data": {
            "text/plain": [
              "Text(0.5, 1.05, 'Confusion Matrix')"
            ]
          },
          "metadata": {},
          "execution_count": 154
        },
        {
          "output_type": "display_data",
          "data": {
            "text/plain": [
              "<Figure size 540x540 with 1 Axes>"
            ],
            "image/png": "[encoded data removed]"
          },
          "metadata": {
            "needs_background": "light"
          }
        }
      ]
    },
    {
      "cell_type": "code",
      "source": [
        "tn, fp, fn, tp = confusion_matrix(list(X_train_prediction), list(y_train), labels=[0, 1]).ravel()\n",
        "\n",
        "print('True Positive', tp)\n",
        "print('True Negative', tn)\n",
        "print('False Positive', fp)\n",
        "print('False Negative', fn)"
      ],
      "metadata": {
        "colab": {
          "base_uri": "https://localhost:8080/"
        },
        "outputId": "c54b112d-2c9d-4222-f379-6e58a2246c10",
        "id": "soWcg9owVem6"
      },
      "execution_count": null,
      "outputs": [
        {
          "output_type": "stream",
          "name": "stdout",
          "text": [
            "True Positive 124\n",
            "True Negative 88\n",
            "False Positive 0\n",
            "False Negative 0\n"
          ]
        }
      ]
    },
    {
      "cell_type": "code",
      "source": [
        "acc = (tp+tn) / (tp+tn+fn+fp)\n",
        "\n",
        "print('Accuracy On Training Data : ',acc*100)"
      ],
      "metadata": {
        "colab": {
          "base_uri": "https://localhost:8080/"
        },
        "outputId": "2da7b435-b2c5-422f-b3b2-7ede47057866",
        "id": "1QiYOPiTVem7"
      },
      "execution_count": null,
      "outputs": [
        {
          "output_type": "stream",
          "name": "stdout",
          "text": [
            "Accuracy On Training Data :  100.0\n"
          ]
        }
      ]
    },
    {
      "cell_type": "code",
      "source": [
        "tn, fp, fn, tp = confusion_matrix(list(X_test_prediction), list(y_test), labels=[0, 1]).ravel()\n",
        "\n",
        "print('True Positive', tp)\n",
        "print('True Negative', tn)\n",
        "print('False Positive', fp)\n",
        "print('False Negative', fn)"
      ],
      "metadata": {
        "colab": {
          "base_uri": "https://localhost:8080/"
        },
        "outputId": "90d7a1ae-9fc9-4434-9458-2efe7526bca4",
        "id": "XR8llucoVem7"
      },
      "execution_count": null,
      "outputs": [
        {
          "output_type": "stream",
          "name": "stdout",
          "text": [
            "True Positive 36\n",
            "True Negative 32\n",
            "False Positive 5\n",
            "False Negative 18\n"
          ]
        }
      ]
    },
    {
      "cell_type": "code",
      "source": [
        "acc = (tp+tn) / (tp+tn+fn+fp)\n",
        "\n",
        "print('Accuracy On Testing Data : ',acc)"
      ],
      "metadata": {
        "colab": {
          "base_uri": "https://localhost:8080/"
        },
        "outputId": "1c2355c3-e1de-4a38-f91a-b5b0fb7a0a0a",
        "id": "26ho8SWwVem7"
      },
      "execution_count": null,
      "outputs": [
        {
          "output_type": "stream",
          "name": "stdout",
          "text": [
            "Accuracy On Testing Data :  0.7472527472527473\n"
          ]
        }
      ]
    },
    {
      "cell_type": "code",
      "source": [],
      "metadata": {
        "id": "_-nBPHOcOu42"
      },
      "execution_count": null,
      "outputs": []
    },
    {
      "cell_type": "markdown",
      "source": [
        "Sensitivity Score"
      ],
      "metadata": {
        "id": "wn9_fda3OvL6"
      }
    },
    {
      "cell_type": "code",
      "source": [
        "sen = (tp)/(tp+fn)\n",
        "print('Sensitivity Score is :',sen*100)"
      ],
      "metadata": {
        "colab": {
          "base_uri": "https://localhost:8080/"
        },
        "outputId": "5f299298-f2e0-4d6a-af3f-f41e075f1cbc",
        "id": "sbXFNowWOvL6"
      },
      "execution_count": null,
      "outputs": [
        {
          "output_type": "stream",
          "name": "stdout",
          "text": [
            "Sensitivity Score is : 66.66666666666666\n"
          ]
        }
      ]
    },
    {
      "cell_type": "markdown",
      "source": [
        "Specificity Score"
      ],
      "metadata": {
        "id": "23v8yWlhOvL7"
      }
    },
    {
      "cell_type": "code",
      "source": [
        "spe = (tn)/(tn+fp)\n",
        "print('Specificity Score is :',spe*100)"
      ],
      "metadata": {
        "colab": {
          "base_uri": "https://localhost:8080/"
        },
        "outputId": "aa79ce49-b874-4173-9978-fd3f6df838e1",
        "id": "ZONbgatyOvL7"
      },
      "execution_count": null,
      "outputs": [
        {
          "output_type": "stream",
          "name": "stdout",
          "text": [
            "Specificity Score is : 86.48648648648648\n"
          ]
        }
      ]
    },
    {
      "cell_type": "markdown",
      "source": [
        "Positive Predictive Value"
      ],
      "metadata": {
        "id": "vCv8bIEyOvL7"
      }
    },
    {
      "cell_type": "code",
      "source": [
        "ppv = (tp)/(tp+fp)\n",
        "print('Positive Predictive Value is :',ppv*100)"
      ],
      "metadata": {
        "colab": {
          "base_uri": "https://localhost:8080/"
        },
        "outputId": "7a34edd8-89e7-4381-f86b-144bd12590e4",
        "id": "yxWVXlumOvL7"
      },
      "execution_count": null,
      "outputs": [
        {
          "output_type": "stream",
          "name": "stdout",
          "text": [
            "Positive Predictive Value is : 87.8048780487805\n"
          ]
        }
      ]
    },
    {
      "cell_type": "markdown",
      "source": [
        "Negative Predictive Value"
      ],
      "metadata": {
        "id": "QhkaRmovOvL7"
      }
    },
    {
      "cell_type": "code",
      "source": [
        "npv =(tn)/(tn+fn)\n",
        "print('Negative Predictive Value is :',npv*100)"
      ],
      "metadata": {
        "colab": {
          "base_uri": "https://localhost:8080/"
        },
        "outputId": "d34a5c68-ed40-4918-a7a0-3b1494dfad1d",
        "id": "mR3WQATQOvL8"
      },
      "execution_count": null,
      "outputs": [
        {
          "output_type": "stream",
          "name": "stdout",
          "text": [
            "Negative Predictive Value is : 64.0\n"
          ]
        }
      ]
    },
    {
      "cell_type": "markdown",
      "source": [
        "# **K Nearest Neighbour Model**"
      ],
      "metadata": {
        "id": "03NoKWqAV1Vw"
      }
    },
    {
      "cell_type": "markdown",
      "source": [
        "Splitting the Data into Training Data and Test Data\n"
      ],
      "metadata": {
        "id": "LTVeQupRWM6g"
      }
    },
    {
      "cell_type": "code",
      "source": [
        "X_train_std,X_test_std,y_train,y_test=train_test_split(X_std,y,random_state=10,test_size=0.3,shuffle=True)\n"
      ],
      "metadata": {
        "id": "v5PZSqr4WM6g"
      },
      "execution_count": null,
      "outputs": []
    },
    {
      "cell_type": "code",
      "source": [
        "knn=KNeighborsClassifier(n_neighbors=8)\n",
        "knn.fit(X_train_std,y_train)"
      ],
      "metadata": {
        "colab": {
          "base_uri": "https://localhost:8080/"
        },
        "id": "EKXtq9UlVsgH",
        "outputId": "0ec49e75-e3ba-4036-98d6-dbc8163063e4"
      },
      "execution_count": null,
      "outputs": [
        {
          "output_type": "execute_result",
          "data": {
            "text/plain": [
              "KNeighborsClassifier(n_neighbors=8)"
            ]
          },
          "metadata": {},
          "execution_count": 164
        }
      ]
    },
    {
      "cell_type": "markdown",
      "source": [
        "Modal Evaluation\n",
        "\n",
        "Accuracy Score"
      ],
      "metadata": {
        "id": "hwMnAjSLajnh"
      }
    },
    {
      "cell_type": "code",
      "source": [
        "X_train_prediction=knn.predict(X_train_std)\n",
        "trainig_data_accuracy= accuracy_score(X_train_prediction,y_train)"
      ],
      "metadata": {
        "id": "txK1ZUU-W9pf"
      },
      "execution_count": null,
      "outputs": []
    },
    {
      "cell_type": "code",
      "source": [
        "print(\"Accuracy On Training Data : \", trainig_data_accuracy*100)"
      ],
      "metadata": {
        "colab": {
          "base_uri": "https://localhost:8080/"
        },
        "outputId": "8ab8993d-755c-4af5-85aa-d01d00579acd",
        "id": "5kxMBeuEW9pi"
      },
      "execution_count": null,
      "outputs": [
        {
          "output_type": "stream",
          "name": "stdout",
          "text": [
            "Accuracy On Training Data :  88.67924528301887\n"
          ]
        }
      ]
    },
    {
      "cell_type": "code",
      "source": [
        "X_test_prediction=knn.predict(X_test_std)\n",
        "testing_data_accuracy= accuracy_score(X_test_prediction,y_test)"
      ],
      "metadata": {
        "id": "lYMONSYZW9pj"
      },
      "execution_count": null,
      "outputs": []
    },
    {
      "cell_type": "code",
      "source": [
        "print(\"Accuracy On Testing Data : \", testing_data_accuracy*100)"
      ],
      "metadata": {
        "colab": {
          "base_uri": "https://localhost:8080/"
        },
        "outputId": "75aa113e-9837-4156-caab-2fb0e8900a33",
        "id": "xkq6G8mXW9pk"
      },
      "execution_count": null,
      "outputs": [
        {
          "output_type": "stream",
          "name": "stdout",
          "text": [
            "Accuracy On Testing Data :  82.41758241758241\n"
          ]
        }
      ]
    },
    {
      "cell_type": "markdown",
      "source": [
        "Checking Accuracy using confusion matrix."
      ],
      "metadata": {
        "id": "Tqo2gQDTW9pk"
      }
    },
    {
      "cell_type": "code",
      "source": [
        "from sklearn.metrics import confusion_matrix\n",
        "cm = confusion_matrix(X_train_prediction,y_train, labels=[0, 1])\n",
        "\n",
        "print(cm)"
      ],
      "metadata": {
        "colab": {
          "base_uri": "https://localhost:8080/"
        },
        "outputId": "23728e4a-76da-4a55-8433-cb1443efacc6",
        "id": "F9bySe11W9pl"
      },
      "execution_count": null,
      "outputs": [
        {
          "output_type": "stream",
          "name": "stdout",
          "text": [
            "[[ 74  10]\n",
            " [ 14 114]]\n"
          ]
        }
      ]
    },
    {
      "cell_type": "code",
      "source": [
        "fig, ax = plt.subplots(figsize=(7.5, 7.5))\n",
        "ax.matshow(cm, cmap=plt.cm.Blues, alpha=0.3)\n",
        "for i in range(cm.shape[0]):\n",
        "    for j in range(cm.shape[1]):\n",
        "        ax.text(x=j, y=i,s=cm[i, j], va='center', ha='center', size='xx-large')\n",
        " \n",
        "plt.xlabel('Predictions', fontsize=18)\n",
        "plt.ylabel('Actuals', fontsize=18)\n",
        "plt.title('Confusion Matrix', fontsize=18)"
      ],
      "metadata": {
        "id": "OiIqxxwDRP8J",
        "outputId": "32b600e6-2e0a-4a96-e68f-eb3e40762c1d",
        "colab": {
          "base_uri": "https://localhost:8080/"
        }
      },
      "execution_count": null,
      "outputs": [
        {
          "output_type": "execute_result",
          "data": {
            "text/plain": [
              "Text(0.5, 1.05, 'Confusion Matrix')"
            ]
          },
          "metadata": {},
          "execution_count": 170
        },
        {
          "output_type": "display_data",
          "data": {
            "text/plain": [
              "<Figure size 540x540 with 1 Axes>"
            ],
            "image/png": "[encoded data removed]"
          },
          "metadata": {
            "needs_background": "light"
          }
        }
      ]
    },
    {
      "cell_type": "code",
      "source": [
        "tn, fp, fn, tp = confusion_matrix(list(X_train_prediction), list(y_train), labels=[0, 1]).ravel()\n",
        "\n",
        "print('True Positive', tp)\n",
        "print('True Negative', tn)\n",
        "print('False Positive', fp)\n",
        "print('False Negative', fn)"
      ],
      "metadata": {
        "colab": {
          "base_uri": "https://localhost:8080/"
        },
        "outputId": "d12301bd-8845-42e6-d6b5-8ea698bd14c6",
        "id": "FiUqn0ysW9pl"
      },
      "execution_count": null,
      "outputs": [
        {
          "output_type": "stream",
          "name": "stdout",
          "text": [
            "True Positive 114\n",
            "True Negative 74\n",
            "False Positive 10\n",
            "False Negative 14\n"
          ]
        }
      ]
    },
    {
      "cell_type": "code",
      "source": [
        "acc = (tp+tn) / (tp+tn+fn+fp)\n",
        "\n",
        "print('Accuracy On Training Data : ',acc)"
      ],
      "metadata": {
        "colab": {
          "base_uri": "https://localhost:8080/"
        },
        "outputId": "60e2d7dc-ee3d-41ba-bab0-4a194ae65fdb",
        "id": "uJ7BvlLUW9pm"
      },
      "execution_count": null,
      "outputs": [
        {
          "output_type": "stream",
          "name": "stdout",
          "text": [
            "Accuracy On Training Data :  0.8867924528301887\n"
          ]
        }
      ]
    },
    {
      "cell_type": "code",
      "source": [
        "tn, fp, fn, tp = confusion_matrix(list(X_test_prediction), list(y_test), labels=[0, 1]).ravel()\n",
        "\n",
        "print('True Positive', tp)\n",
        "print('True Negative', tn)\n",
        "print('False Positive', fp)\n",
        "print('False Negative', fn)"
      ],
      "metadata": {
        "colab": {
          "base_uri": "https://localhost:8080/"
        },
        "outputId": "f1b17f66-b47a-49ce-e4c0-1ac8281aa1c8",
        "id": "NHf2TiyxW9pn"
      },
      "execution_count": null,
      "outputs": [
        {
          "output_type": "stream",
          "name": "stdout",
          "text": [
            "True Positive 37\n",
            "True Negative 38\n",
            "False Positive 4\n",
            "False Negative 12\n"
          ]
        }
      ]
    },
    {
      "cell_type": "code",
      "source": [
        "acc = (tp+tn) / (tp+tn+fn+fp)\n",
        "\n",
        "print('Accuracy On Testing Data : ',acc)"
      ],
      "metadata": {
        "colab": {
          "base_uri": "https://localhost:8080/"
        },
        "outputId": "a1fcc4d5-3290-4a63-8bc2-9263aed067b0",
        "id": "u_5iI6C6W9po"
      },
      "execution_count": null,
      "outputs": [
        {
          "output_type": "stream",
          "name": "stdout",
          "text": [
            "Accuracy On Testing Data :  0.8241758241758241\n"
          ]
        }
      ]
    },
    {
      "cell_type": "code",
      "source": [],
      "metadata": {
        "id": "fMLctnQoOw4R"
      },
      "execution_count": null,
      "outputs": []
    },
    {
      "cell_type": "markdown",
      "source": [
        "Sensitivity Score"
      ],
      "metadata": {
        "id": "Y06sXH2pOxL9"
      }
    },
    {
      "cell_type": "code",
      "source": [
        "sen = (tp)/(tp+fn)\n",
        "print('Sensitivity Score is :',sen*100)"
      ],
      "metadata": {
        "colab": {
          "base_uri": "https://localhost:8080/"
        },
        "outputId": "778e353f-38f7-4378-80e7-eadd3b440505",
        "id": "P_4MgZniOxL9"
      },
      "execution_count": null,
      "outputs": [
        {
          "output_type": "stream",
          "name": "stdout",
          "text": [
            "Sensitivity Score is : 75.51020408163265\n"
          ]
        }
      ]
    },
    {
      "cell_type": "markdown",
      "source": [
        "Specificity Score"
      ],
      "metadata": {
        "id": "uR-GYXRnOxL9"
      }
    },
    {
      "cell_type": "code",
      "source": [
        "spe = (tn)/(tn+fp)\n",
        "print('Specificity Score is :',spe*100)"
      ],
      "metadata": {
        "colab": {
          "base_uri": "https://localhost:8080/"
        },
        "outputId": "5100c1d3-865c-4a19-c49f-b720d60725e5",
        "id": "QkHQbk-rOxL9"
      },
      "execution_count": null,
      "outputs": [
        {
          "output_type": "stream",
          "name": "stdout",
          "text": [
            "Specificity Score is : 90.47619047619048\n"
          ]
        }
      ]
    },
    {
      "cell_type": "markdown",
      "source": [
        "Positive Predictive Value"
      ],
      "metadata": {
        "id": "as5QbFtVOxL-"
      }
    },
    {
      "cell_type": "code",
      "source": [
        "ppv = (tp)/(tp+fp)\n",
        "print('Positive Predictive Value is :',ppv*100)"
      ],
      "metadata": {
        "colab": {
          "base_uri": "https://localhost:8080/"
        },
        "outputId": "d530ff6c-57d0-4e18-90c4-6de63cdfac10",
        "id": "I_SnNBohOxL-"
      },
      "execution_count": null,
      "outputs": [
        {
          "output_type": "stream",
          "name": "stdout",
          "text": [
            "Positive Predictive Value is : 90.2439024390244\n"
          ]
        }
      ]
    },
    {
      "cell_type": "markdown",
      "source": [
        "Negative Predictive Value"
      ],
      "metadata": {
        "id": "cukXeHhaOxL-"
      }
    },
    {
      "cell_type": "code",
      "source": [
        "npv =(tn)/(tn+fn)\n",
        "print('Negative Predictive Value is :',npv*100)"
      ],
      "metadata": {
        "colab": {
          "base_uri": "https://localhost:8080/"
        },
        "outputId": "39c8ae24-8c8c-4f37-8f9a-a03a087a0524",
        "id": "dbppGDH1OxL-"
      },
      "execution_count": null,
      "outputs": [
        {
          "output_type": "stream",
          "name": "stdout",
          "text": [
            "Negative Predictive Value is : 76.0\n"
          ]
        }
      ]
    },
    {
      "cell_type": "markdown",
      "source": [
        "#  **Artifical Neural Network Model**"
      ],
      "metadata": {
        "id": "ee7eo0n2btyG"
      }
    },
    {
      "cell_type": "markdown",
      "source": [
        "Splitting the Data into Training data and test data"
      ],
      "metadata": {
        "id": "HKT23roZb-ir"
      }
    },
    {
      "cell_type": "code",
      "source": [
        "X_train_std_nn,X_test_std_nn,y_train_nn,y_test_nn=train_test_split(X_std,y,random_state=10,test_size=0.3,shuffle=\"True\")"
      ],
      "metadata": {
        "id": "_mSn3CKhcKIq"
      },
      "execution_count": null,
      "outputs": []
    },
    {
      "cell_type": "code",
      "source": [
        "nn_model = MLPClassifier()"
      ],
      "metadata": {
        "id": "lzAP_WpCcyDm"
      },
      "execution_count": null,
      "outputs": []
    },
    {
      "cell_type": "code",
      "source": [
        "#training of the model using training data\n",
        "nn_model.fit(X_train_std_nn,y_train_nn)"
      ],
      "metadata": {
        "colab": {
          "base_uri": "https://localhost:8080/"
        },
        "id": "pjYBDrTvcyn2",
        "outputId": "60ef59ce-442d-4b37-d93e-b223d56d55c0"
      },
      "execution_count": null,
      "outputs": [
        {
          "output_type": "stream",
          "name": "stderr",
          "text": [
            "/usr/local/lib/python3.7/dist-packages/sklearn/neural_network/_multilayer_perceptron.py:696: ConvergenceWarning: Stochastic Optimizer: Maximum iterations (200) reached and the optimization hasn't converged yet.\n",
            "  ConvergenceWarning,\n"
          ]
        },
        {
          "output_type": "execute_result",
          "data": {
            "text/plain": [
              "MLPClassifier()"
            ]
          },
          "metadata": {},
          "execution_count": 181
        }
      ]
    },
    {
      "cell_type": "markdown",
      "source": [
        "Accuracy Score"
      ],
      "metadata": {
        "id": "bm-Yb7iOdIJt"
      }
    },
    {
      "cell_type": "code",
      "source": [
        "#Accuracy on training data\n",
        "\n",
        "X_train_prediction_nn=nn_model.predict(X_train_std_nn)\n",
        "training_data_accuracy_nn= accuracy_score(X_train_prediction_nn,y_train_nn)\n",
        "\n",
        "print(\"Accuracy on Training Data :\",training_data_accuracy_nn*100)"
      ],
      "metadata": {
        "id": "ux9xxrSqdUt-",
        "colab": {
          "base_uri": "https://localhost:8080/"
        },
        "outputId": "6527409c-e364-4d37-e31d-3e40ce092c02"
      },
      "execution_count": null,
      "outputs": [
        {
          "output_type": "stream",
          "name": "stdout",
          "text": [
            "Accuracy on Training Data : 90.09433962264151\n"
          ]
        }
      ]
    },
    {
      "cell_type": "code",
      "source": [
        "#Accuracy on testing data\n",
        "X_test_prediction_nn=nn_model.predict(X_test_std_nn)\n",
        "testing_data_accuracy_nn=accuracy_score(X_test_prediction_nn,y_test_nn)\n",
        "print(\"Accuracy on Testing data\", testing_data_accuracy_nn*100)"
      ],
      "metadata": {
        "colab": {
          "base_uri": "https://localhost:8080/"
        },
        "id": "zhvoWa9AfYsd",
        "outputId": "f46faf5c-89c2-4d5e-a1b2-a1f8782e7bb7"
      },
      "execution_count": null,
      "outputs": [
        {
          "output_type": "stream",
          "name": "stdout",
          "text": [
            "Accuracy on Testing data 79.12087912087912\n"
          ]
        }
      ]
    },
    {
      "cell_type": "markdown",
      "source": [
        "Checking Accuracy  Confusion Matrix"
      ],
      "metadata": {
        "id": "BEpNM0FJgXuK"
      }
    },
    {
      "cell_type": "code",
      "source": [
        "from sklearn.metrics import confusion_matrix\n",
        "cm_nn = confusion_matrix(X_train_prediction_nn,y_train_nn, labels=[0, 1])\n",
        "\n",
        "print(cm_nn)"
      ],
      "metadata": {
        "colab": {
          "base_uri": "https://localhost:8080/"
        },
        "id": "OhLchYNcgcrd",
        "outputId": "a4dc14fd-709b-4655-cc92-cadbd0c756fa"
      },
      "execution_count": null,
      "outputs": [
        {
          "output_type": "stream",
          "name": "stdout",
          "text": [
            "[[ 74   7]\n",
            " [ 14 117]]\n"
          ]
        }
      ]
    },
    {
      "cell_type": "code",
      "source": [
        "fig, ax = plt.subplots(figsize=(7.5, 7.5))\n",
        "ax.matshow(cm_nn, cmap=plt.cm.Blues, alpha=0.3)\n",
        "for i in range(cm_nn.shape[0]):\n",
        "    for j in range(cm_nn.shape[1]):\n",
        "        ax.text(x=j, y=i,s=cm_nn[i, j], va='center', ha='center', size='xx-large')\n",
        " \n",
        "plt.xlabel('Predictions', fontsize=18)\n",
        "plt.ylabel('Actuals', fontsize=18)\n",
        "plt.title('Confusion Matrix', fontsize=18)"
      ],
      "metadata": {
        "id": "_f47oWtxRS8K",
        "outputId": "876926b1-7c05-4ccf-8f8a-72ed5b341730",
        "colab": {
          "base_uri": "https://localhost:8080/"
        }
      },
      "execution_count": null,
      "outputs": [
        {
          "output_type": "execute_result",
          "data": {
            "text/plain": [
              "Text(0.5, 1.05, 'Confusion Matrix')"
            ]
          },
          "metadata": {},
          "execution_count": 185
        },
        {
          "output_type": "display_data",
          "data": {
            "text/plain": [
              "<Figure size 540x540 with 1 Axes>"
            ],
            "image/png": "[encoded data removed]"
          },
          "metadata": {
            "needs_background": "light"
          }
        }
      ]
    },
    {
      "cell_type": "code",
      "source": [
        "tn, fp, fn, tp = confusion_matrix(list(X_train_prediction_nn), list(y_train_nn), labels=[0, 1]).ravel()\n",
        "\n",
        "print('True Positive', tp)\n",
        "print('True Negative', tn)\n",
        "print('False Positive', fp)\n",
        "print('False Negative', fn)"
      ],
      "metadata": {
        "colab": {
          "base_uri": "https://localhost:8080/"
        },
        "id": "vbjM2YmLgs19",
        "outputId": "261c5372-bb65-4cfb-e0b5-c82574191f71"
      },
      "execution_count": null,
      "outputs": [
        {
          "output_type": "stream",
          "name": "stdout",
          "text": [
            "True Positive 117\n",
            "True Negative 74\n",
            "False Positive 7\n",
            "False Negative 14\n"
          ]
        }
      ]
    },
    {
      "cell_type": "code",
      "source": [
        "acc_nn = (tp+tn) / (tp+tn+fn+fp)\n",
        "\n",
        "print('Accuracy On Training Data : ',acc*100)"
      ],
      "metadata": {
        "colab": {
          "base_uri": "https://localhost:8080/"
        },
        "id": "87OwIh5zg3p1",
        "outputId": "0e8e7b2e-265e-455e-d252-c9859a15e045"
      },
      "execution_count": null,
      "outputs": [
        {
          "output_type": "stream",
          "name": "stdout",
          "text": [
            "Accuracy On Training Data :  82.41758241758241\n"
          ]
        }
      ]
    },
    {
      "cell_type": "code",
      "source": [],
      "metadata": {
        "id": "Q5czNEKVOzGe"
      },
      "execution_count": null,
      "outputs": []
    },
    {
      "cell_type": "markdown",
      "source": [
        "Sensitivity Score"
      ],
      "metadata": {
        "id": "WLn8rcZWOzXs"
      }
    },
    {
      "cell_type": "code",
      "source": [
        "sen = (tp)/(tp+fn)\n",
        "print('Sensitivity Score is :',sen*100)"
      ],
      "metadata": {
        "colab": {
          "base_uri": "https://localhost:8080/"
        },
        "outputId": "6bc3feb0-8dd8-452b-b9ab-94444c81d237",
        "id": "NoIjUMUKOzXs"
      },
      "execution_count": null,
      "outputs": [
        {
          "output_type": "stream",
          "name": "stdout",
          "text": [
            "Sensitivity Score is : 89.31297709923665\n"
          ]
        }
      ]
    },
    {
      "cell_type": "markdown",
      "source": [
        "Specificity Score"
      ],
      "metadata": {
        "id": "9XjBG5PzOzXs"
      }
    },
    {
      "cell_type": "code",
      "source": [
        "spe = (tn)/(tn+fp)\n",
        "print('Specificity Score is :',spe*100)"
      ],
      "metadata": {
        "colab": {
          "base_uri": "https://localhost:8080/"
        },
        "outputId": "6ba6153f-498d-4171-d86a-fd839b1bc1d8",
        "id": "hJlajudLOzXt"
      },
      "execution_count": null,
      "outputs": [
        {
          "output_type": "stream",
          "name": "stdout",
          "text": [
            "Specificity Score is : 91.35802469135803\n"
          ]
        }
      ]
    },
    {
      "cell_type": "markdown",
      "source": [
        "Positive Predictive Value"
      ],
      "metadata": {
        "id": "5gBdHxMnOzXt"
      }
    },
    {
      "cell_type": "code",
      "source": [
        "ppv = (tp)/(tp+fp)\n",
        "print('Positive Predictive Value is :',ppv*100)"
      ],
      "metadata": {
        "colab": {
          "base_uri": "https://localhost:8080/"
        },
        "outputId": "d61e1b15-c4b7-409d-d499-aff7248adb39",
        "id": "6VQ_N5xnOzXt"
      },
      "execution_count": null,
      "outputs": [
        {
          "output_type": "stream",
          "name": "stdout",
          "text": [
            "Positive Predictive Value is : 94.35483870967742\n"
          ]
        }
      ]
    },
    {
      "cell_type": "markdown",
      "source": [
        "Negative Predictive Value"
      ],
      "metadata": {
        "id": "x2bkZGFIOzXt"
      }
    },
    {
      "cell_type": "code",
      "source": [
        "npv =(tn)/(tn+fn)\n",
        "print('Negative Predictive Value is :',npv*100)"
      ],
      "metadata": {
        "colab": {
          "base_uri": "https://localhost:8080/"
        },
        "outputId": "06e3a463-b7e6-45c9-d15a-63d4ef84d899",
        "id": "nfIJJUyLOzXt"
      },
      "execution_count": null,
      "outputs": [
        {
          "output_type": "stream",
          "name": "stdout",
          "text": [
            "Negative Predictive Value is : 84.0909090909091\n"
          ]
        }
      ]
    },
    {
      "cell_type": "markdown",
      "source": [
        "# **Input Data to Predict Risk**"
      ],
      "metadata": {
        "id": "nFtX69w4Emqu"
      }
    },
    {
      "cell_type": "code",
      "source": [
        "input_data=(21,1,1,130,210,0,0,200,0,1.8,2,0,0)\n",
        "\n",
        "#change input data to a numpy array\n",
        "input_data_as_numpy_array=np.asarray(input_data)\n",
        "\n",
        "#reshape the numpy array as we are predicting for only one instance\n",
        "input_data_reshaped=input_data_as_numpy_array.reshape(1,-1)\n",
        "prediction1=LR.predict(input_data_reshaped)\n",
        "print(\"Using Linear Regression Model\")\n",
        "print(prediction1)\n",
        "if (prediction1[0]==0):\n",
        "  print('The person does not have Heart Disease')\n",
        "  print()\n",
        "else:\n",
        "  print('The person has Heart Disease')\n",
        "  print()\n",
        "prediction2=NB.predict(input_data_reshaped)\n",
        "print(\"Using Multinomial Naive Bayes Model\")\n",
        "print(prediction2)\n",
        "if (prediction2[0]==0):\n",
        "  print('The person does not have Heart Disease')\n",
        "  print()\n",
        "else:\n",
        "  print('The person has Heart Disease') \n",
        "  print()\n",
        "prediction3=dt.predict(input_data_reshaped)\n",
        "print(\"Using Decision Tree Model\")\n",
        "print(prediction3)\n",
        "if (prediction3[0]==0):\n",
        "  print('The person does not have Heart Disease')\n",
        "  print()\n",
        "else:\n",
        "  print('The person has Heart Disease') \n",
        "  print()  \n",
        "prediction4=knn.predict(input_data_reshaped)\n",
        "print(\"Using  K Nearest Neighbour Model\")\n",
        "print(prediction4)\n",
        "if (prediction4[0]==0):\n",
        "  print('The person does not have Heart Disease')\n",
        "  print()\n",
        "else:\n",
        "  print('The person has Heart Disease')\n",
        "  print()  \n",
        "\n",
        "prediction5=nn_model.predict(input_data_reshaped)\n",
        "print(\"Using Artificial Neural Network Model\")\n",
        "print(prediction5)\n",
        "if (prediction5[0]==0):\n",
        "  print('The person does not have Heart Disease')\n",
        "  print()\n",
        "else:\n",
        "  print('The person has Heart Disease')\n",
        "  print()\n",
        "\n",
        "final_verdict=int(prediction1+prediction2+prediction3+prediction4+prediction5)\n",
        "if final_verdict>=3:\n",
        "     print(\"----------------------------------------------------------------------------------------------------------------------------------------------------------------------------\")\n",
        "     print('***FINAL VERDICT: The person has Heart Disease***')\n",
        "     print(\"----------------------------------------------------------------------------------------------------------------------------------------------------------------------------\")\n",
        "else:\n",
        "     print(\"----------------------------------------------------------------------------------------------------------------------------------------------------------------------------\")\n",
        "     print('***FINAL VERDICT: The person does not have Heart Disease***')\n",
        "     print(\"----------------------------------------------------------------------------------------------------------------------------------------------------------------------------\")\n"
      ],
      "metadata": {
        "id": "f_V4f9N0Eqym",
        "colab": {
          "base_uri": "https://localhost:8080/"
        },
        "outputId": "22f6b458-8fb7-4d75-a93b-1a40b6031c94"
      },
      "execution_count": null,
      "outputs": [
        {
          "output_type": "stream",
          "name": "stdout",
          "text": [
            "Using Linear Regression Model\n",
            "[1]\n",
            "The person has Heart Disease\n",
            "\n",
            "Using Multinomial Naive Bayes Model\n",
            "[1]\n",
            "The person has Heart Disease\n",
            "\n",
            "Using Decision Tree Model\n",
            "[0]\n",
            "The person does not have Heart Disease\n",
            "\n",
            "Using  K Nearest Neighbour Model\n",
            "[1]\n",
            "The person has Heart Disease\n",
            "\n",
            "Using Artificial Neural Network Model\n",
            "[1]\n",
            "The person has Heart Disease\n",
            "\n",
            "----------------------------------------------------------------------------------------------------------------------------------------------------------------------------\n",
            "***FINAL VERDICT: The person has Heart Disease***\n",
            "----------------------------------------------------------------------------------------------------------------------------------------------------------------------------\n"
          ]
        },
        {
          "output_type": "stream",
          "name": "stderr",
          "text": [
            "/usr/local/lib/python3.7/dist-packages/sklearn/base.py:451: UserWarning: X does not have valid feature names, but MultinomialNB was fitted with feature names\n",
            "  \"X does not have valid feature names, but\"\n"
          ]
        }
      ]
    },
    {
      "cell_type": "code",
      "source": [],
      "metadata": {
        "id": "JcrQZqjwk8Qc"
      },
      "execution_count": null,
      "outputs": []
    }
  ]
}